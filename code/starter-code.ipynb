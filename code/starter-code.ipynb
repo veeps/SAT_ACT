{
 "cells": [
  {
   "cell_type": "markdown",
   "metadata": {},
   "source": [
    "# Project 1: SAT & ACT Analysis"
   ]
  },
  {
   "cell_type": "markdown",
   "metadata": {},
   "source": [
    "\n",
    "## Problem Statement"
   ]
  },
  {
   "cell_type": "markdown",
   "metadata": {},
   "source": [
    "Millions of students prepare for college across the country each year. Given the choice students have between which college admissions test to take, how might we increase statewide participation in the SATs?"
   ]
  },
  {
   "cell_type": "markdown",
   "metadata": {},
   "source": [
    "## Executive Summary\n",
    "\n",
    "If you want to, it's great to use relative links to direct your audience to various sections of a notebook. **HERE'S A DEMONSTRATION WITH THE CURRENT SECTION HEADERS**:\n",
    "\n",
    "### Contents:\n",
    "- [Data Import & Cleaning](#Data-Import-and-Cleaning)\n",
    "- [2018 Data Import and Cleaning](#2018-Data-Import-and-Cleaning)\n",
    "- [Exploratory Data Analysis](#Exploratory-Data-Analysis)\n",
    "- [Data Visualization](#Visualize-the-data)\n",
    "- [Descriptive and Inferential Statistics](#Descriptive-and-Inferential-Statistics)\n",
    "- [Outside Research](#Outside-Research)\n",
    "- [Conclusions and Recommendations](#Conclusions-and-Recommendations)"
   ]
  },
  {
   "cell_type": "markdown",
   "metadata": {},
   "source": [
    "*All libraries used should be added here*"
   ]
  },
  {
   "cell_type": "code",
   "execution_count": 22,
   "metadata": {},
   "outputs": [],
   "source": [
    "#Imports:\n",
    "import pandas as pd\n",
    "import numpy as np"
   ]
  },
  {
   "cell_type": "markdown",
   "metadata": {},
   "source": [
    "## Data Import and Cleaning"
   ]
  },
  {
   "cell_type": "markdown",
   "metadata": {},
   "source": [
    "#### 1. Read In SAT & ACT  Data\n",
    "\n",
    "Read in the `sat_2017.csv` and `act_2017.csv` files and assign them to appropriately named pandas dataframes."
   ]
  },
  {
   "cell_type": "code",
   "execution_count": 23,
   "metadata": {},
   "outputs": [],
   "source": [
    "# reading in provided data \n",
    "sat_2017 = pd.read_csv('../data/sat_2017.csv')\n",
    "sat_2018 = pd.read_csv('../data/sat_2018.csv')\n",
    "\n",
    "act_2017 = pd.read_csv('../data/act_2017.csv')\n",
    "act_2018 = pd.read_csv('../data/act_2018.csv')"
   ]
  },
  {
   "cell_type": "markdown",
   "metadata": {},
   "source": [
    "#### 2. Display Data\n",
    "\n",
    "Print the first 10 rows of each dataframe to your jupyter notebook"
   ]
  },
  {
   "cell_type": "code",
   "execution_count": 24,
   "metadata": {},
   "outputs": [
    {
     "data": {
      "text/html": [
       "<div>\n",
       "<style scoped>\n",
       "    .dataframe tbody tr th:only-of-type {\n",
       "        vertical-align: middle;\n",
       "    }\n",
       "\n",
       "    .dataframe tbody tr th {\n",
       "        vertical-align: top;\n",
       "    }\n",
       "\n",
       "    .dataframe thead th {\n",
       "        text-align: right;\n",
       "    }\n",
       "</style>\n",
       "<table border=\"1\" class=\"dataframe\">\n",
       "  <thead>\n",
       "    <tr style=\"text-align: right;\">\n",
       "      <th></th>\n",
       "      <th>State</th>\n",
       "      <th>Participation</th>\n",
       "      <th>Evidence-Based Reading and Writing</th>\n",
       "      <th>Math</th>\n",
       "      <th>Total</th>\n",
       "    </tr>\n",
       "  </thead>\n",
       "  <tbody>\n",
       "    <tr>\n",
       "      <th>0</th>\n",
       "      <td>Alabama</td>\n",
       "      <td>5%</td>\n",
       "      <td>593</td>\n",
       "      <td>572</td>\n",
       "      <td>1165</td>\n",
       "    </tr>\n",
       "    <tr>\n",
       "      <th>1</th>\n",
       "      <td>Alaska</td>\n",
       "      <td>38%</td>\n",
       "      <td>547</td>\n",
       "      <td>533</td>\n",
       "      <td>1080</td>\n",
       "    </tr>\n",
       "    <tr>\n",
       "      <th>2</th>\n",
       "      <td>Arizona</td>\n",
       "      <td>30%</td>\n",
       "      <td>563</td>\n",
       "      <td>553</td>\n",
       "      <td>1116</td>\n",
       "    </tr>\n",
       "    <tr>\n",
       "      <th>3</th>\n",
       "      <td>Arkansas</td>\n",
       "      <td>3%</td>\n",
       "      <td>614</td>\n",
       "      <td>594</td>\n",
       "      <td>1208</td>\n",
       "    </tr>\n",
       "    <tr>\n",
       "      <th>4</th>\n",
       "      <td>California</td>\n",
       "      <td>53%</td>\n",
       "      <td>531</td>\n",
       "      <td>524</td>\n",
       "      <td>1055</td>\n",
       "    </tr>\n",
       "    <tr>\n",
       "      <th>5</th>\n",
       "      <td>Colorado</td>\n",
       "      <td>11%</td>\n",
       "      <td>606</td>\n",
       "      <td>595</td>\n",
       "      <td>1201</td>\n",
       "    </tr>\n",
       "    <tr>\n",
       "      <th>6</th>\n",
       "      <td>Connecticut</td>\n",
       "      <td>100%</td>\n",
       "      <td>530</td>\n",
       "      <td>512</td>\n",
       "      <td>1041</td>\n",
       "    </tr>\n",
       "    <tr>\n",
       "      <th>7</th>\n",
       "      <td>Delaware</td>\n",
       "      <td>100%</td>\n",
       "      <td>503</td>\n",
       "      <td>492</td>\n",
       "      <td>996</td>\n",
       "    </tr>\n",
       "    <tr>\n",
       "      <th>8</th>\n",
       "      <td>District of Columbia</td>\n",
       "      <td>100%</td>\n",
       "      <td>482</td>\n",
       "      <td>468</td>\n",
       "      <td>950</td>\n",
       "    </tr>\n",
       "    <tr>\n",
       "      <th>9</th>\n",
       "      <td>Florida</td>\n",
       "      <td>83%</td>\n",
       "      <td>520</td>\n",
       "      <td>497</td>\n",
       "      <td>1017</td>\n",
       "    </tr>\n",
       "  </tbody>\n",
       "</table>\n",
       "</div>"
      ],
      "text/plain": [
       "                  State Participation  Evidence-Based Reading and Writing  \\\n",
       "0               Alabama            5%                                 593   \n",
       "1                Alaska           38%                                 547   \n",
       "2               Arizona           30%                                 563   \n",
       "3              Arkansas            3%                                 614   \n",
       "4            California           53%                                 531   \n",
       "5              Colorado           11%                                 606   \n",
       "6           Connecticut          100%                                 530   \n",
       "7              Delaware          100%                                 503   \n",
       "8  District of Columbia          100%                                 482   \n",
       "9               Florida           83%                                 520   \n",
       "\n",
       "   Math  Total  \n",
       "0   572   1165  \n",
       "1   533   1080  \n",
       "2   553   1116  \n",
       "3   594   1208  \n",
       "4   524   1055  \n",
       "5   595   1201  \n",
       "6   512   1041  \n",
       "7   492    996  \n",
       "8   468    950  \n",
       "9   497   1017  "
      ]
     },
     "execution_count": 24,
     "metadata": {},
     "output_type": "execute_result"
    }
   ],
   "source": [
    "#Code:\n",
    "sat_2017.head(10)"
   ]
  },
  {
   "cell_type": "code",
   "execution_count": 19,
   "metadata": {},
   "outputs": [
    {
     "data": {
      "text/html": [
       "<div>\n",
       "<style scoped>\n",
       "    .dataframe tbody tr th:only-of-type {\n",
       "        vertical-align: middle;\n",
       "    }\n",
       "\n",
       "    .dataframe tbody tr th {\n",
       "        vertical-align: top;\n",
       "    }\n",
       "\n",
       "    .dataframe thead th {\n",
       "        text-align: right;\n",
       "    }\n",
       "</style>\n",
       "<table border=\"1\" class=\"dataframe\">\n",
       "  <thead>\n",
       "    <tr style=\"text-align: right;\">\n",
       "      <th></th>\n",
       "      <th>state</th>\n",
       "      <th>act_participation_2017</th>\n",
       "      <th>act_english_2017</th>\n",
       "      <th>act_math_2017</th>\n",
       "      <th>act_reading_2017</th>\n",
       "      <th>act_science_2017</th>\n",
       "      <th>act_composite_2017</th>\n",
       "    </tr>\n",
       "  </thead>\n",
       "  <tbody>\n",
       "    <tr>\n",
       "      <th>0</th>\n",
       "      <td>national</td>\n",
       "      <td>60%</td>\n",
       "      <td>20.3</td>\n",
       "      <td>20.7</td>\n",
       "      <td>21.4</td>\n",
       "      <td>21.0</td>\n",
       "      <td>21.0</td>\n",
       "    </tr>\n",
       "    <tr>\n",
       "      <th>1</th>\n",
       "      <td>alabama</td>\n",
       "      <td>100%</td>\n",
       "      <td>18.9</td>\n",
       "      <td>18.4</td>\n",
       "      <td>19.7</td>\n",
       "      <td>19.4</td>\n",
       "      <td>19.2</td>\n",
       "    </tr>\n",
       "    <tr>\n",
       "      <th>2</th>\n",
       "      <td>alaska</td>\n",
       "      <td>65%</td>\n",
       "      <td>18.7</td>\n",
       "      <td>19.8</td>\n",
       "      <td>20.4</td>\n",
       "      <td>19.9</td>\n",
       "      <td>19.8</td>\n",
       "    </tr>\n",
       "    <tr>\n",
       "      <th>3</th>\n",
       "      <td>arizona</td>\n",
       "      <td>62%</td>\n",
       "      <td>18.6</td>\n",
       "      <td>19.8</td>\n",
       "      <td>20.1</td>\n",
       "      <td>19.8</td>\n",
       "      <td>19.7</td>\n",
       "    </tr>\n",
       "    <tr>\n",
       "      <th>4</th>\n",
       "      <td>arkansas</td>\n",
       "      <td>100%</td>\n",
       "      <td>18.9</td>\n",
       "      <td>19.0</td>\n",
       "      <td>19.7</td>\n",
       "      <td>19.5</td>\n",
       "      <td>19.4</td>\n",
       "    </tr>\n",
       "    <tr>\n",
       "      <th>5</th>\n",
       "      <td>california</td>\n",
       "      <td>31%</td>\n",
       "      <td>22.5</td>\n",
       "      <td>22.7</td>\n",
       "      <td>23.1</td>\n",
       "      <td>22.2</td>\n",
       "      <td>22.8</td>\n",
       "    </tr>\n",
       "    <tr>\n",
       "      <th>6</th>\n",
       "      <td>colorado</td>\n",
       "      <td>100%</td>\n",
       "      <td>20.1</td>\n",
       "      <td>20.3</td>\n",
       "      <td>21.2</td>\n",
       "      <td>20.9</td>\n",
       "      <td>20.8</td>\n",
       "    </tr>\n",
       "    <tr>\n",
       "      <th>7</th>\n",
       "      <td>connecticut</td>\n",
       "      <td>31%</td>\n",
       "      <td>25.5</td>\n",
       "      <td>24.6</td>\n",
       "      <td>25.6</td>\n",
       "      <td>24.6</td>\n",
       "      <td>25.2</td>\n",
       "    </tr>\n",
       "    <tr>\n",
       "      <th>8</th>\n",
       "      <td>delaware</td>\n",
       "      <td>18%</td>\n",
       "      <td>24.1</td>\n",
       "      <td>23.4</td>\n",
       "      <td>24.8</td>\n",
       "      <td>23.6</td>\n",
       "      <td>24.1</td>\n",
       "    </tr>\n",
       "    <tr>\n",
       "      <th>9</th>\n",
       "      <td>district of columbia</td>\n",
       "      <td>32%</td>\n",
       "      <td>24.4</td>\n",
       "      <td>23.5</td>\n",
       "      <td>24.9</td>\n",
       "      <td>23.5</td>\n",
       "      <td>24.2</td>\n",
       "    </tr>\n",
       "  </tbody>\n",
       "</table>\n",
       "</div>"
      ],
      "text/plain": [
       "                  state act_participation_2017  act_english_2017  \\\n",
       "0              national                    60%              20.3   \n",
       "1               alabama                   100%              18.9   \n",
       "2                alaska                    65%              18.7   \n",
       "3               arizona                    62%              18.6   \n",
       "4              arkansas                   100%              18.9   \n",
       "5            california                    31%              22.5   \n",
       "6              colorado                   100%              20.1   \n",
       "7           connecticut                    31%              25.5   \n",
       "8              delaware                    18%              24.1   \n",
       "9  district of columbia                    32%              24.4   \n",
       "\n",
       "   act_math_2017  act_reading_2017  act_science_2017 act_composite_2017  \n",
       "0           20.7              21.4              21.0               21.0  \n",
       "1           18.4              19.7              19.4               19.2  \n",
       "2           19.8              20.4              19.9               19.8  \n",
       "3           19.8              20.1              19.8               19.7  \n",
       "4           19.0              19.7              19.5               19.4  \n",
       "5           22.7              23.1              22.2               22.8  \n",
       "6           20.3              21.2              20.9               20.8  \n",
       "7           24.6              25.6              24.6               25.2  \n",
       "8           23.4              24.8              23.6               24.1  \n",
       "9           23.5              24.9              23.5               24.2  "
      ]
     },
     "execution_count": 19,
     "metadata": {},
     "output_type": "execute_result"
    }
   ],
   "source": [
    "act_2017.head(10)"
   ]
  },
  {
   "cell_type": "markdown",
   "metadata": {},
   "source": [
    "#### 3. Verbally Describe Data\n",
    "\n",
    "Take your time looking through the data and thoroughly describe the data in the markdown cell below. "
   ]
  },
  {
   "cell_type": "markdown",
   "metadata": {},
   "source": [
    "Each of these data tables includes the average participation rate, total/composite scores, and individual subject scores for each state. Washington DC is also included."
   ]
  },
  {
   "cell_type": "markdown",
   "metadata": {},
   "source": [
    "#### 4a. Does the data look complete? "
   ]
  },
  {
   "cell_type": "markdown",
   "metadata": {},
   "source": [
    "Data looks complete, no missing values"
   ]
  },
  {
   "cell_type": "code",
   "execution_count": 25,
   "metadata": {
    "scrolled": true
   },
   "outputs": [
    {
     "name": "stdout",
     "output_type": "stream",
     "text": [
      "<class 'pandas.core.frame.DataFrame'>\n",
      "RangeIndex: 52 entries, 0 to 51\n",
      "Data columns (total 7 columns):\n",
      "State            52 non-null object\n",
      "Participation    52 non-null object\n",
      "English          52 non-null float64\n",
      "Math             52 non-null float64\n",
      "Reading          52 non-null float64\n",
      "Science          52 non-null float64\n",
      "Composite        52 non-null object\n",
      "dtypes: float64(4), object(3)\n",
      "memory usage: 3.0+ KB\n",
      "<class 'pandas.core.frame.DataFrame'>\n",
      "RangeIndex: 51 entries, 0 to 50\n",
      "Data columns (total 5 columns):\n",
      "State                                 51 non-null object\n",
      "Participation                         51 non-null object\n",
      "Evidence-Based Reading and Writing    51 non-null int64\n",
      "Math                                  51 non-null int64\n",
      "Total                                 51 non-null int64\n",
      "dtypes: int64(3), object(2)\n",
      "memory usage: 2.1+ KB\n"
     ]
    }
   ],
   "source": [
    "# look through the shape and data types\n",
    "act_2017.info(); \n",
    "sat_2017.info();\n",
    "\n",
    "# look for summary stats. Are there any outliers?\n",
    "act_2017.describe();\n",
    "sat_2017.describe();\n",
    "\n",
    "# is there missing data?\n",
    "act_2018.isnull().sum(); \n",
    "act_2017.isnull().sum();\n"
   ]
  },
  {
   "cell_type": "markdown",
   "metadata": {},
   "source": [
    "#### 4b. Are there any obvious issues with the observations?\n",
    "\n",
    "**What is the minimum *possible* value for each test/subtest? What is the maximum *possible* value?**\n",
    "\n",
    "Consider comparing any questionable values to the sources of your data:\n",
    "- [SAT](https://blog.collegevine.com/here-are-the-average-sat-scores-by-state/)\n",
    "- [ACT](https://blog.prepscholar.com/act-scores-by-state-averages-highs-and-lows)"
   ]
  },
  {
   "cell_type": "code",
   "execution_count": 26,
   "metadata": {},
   "outputs": [
    {
     "data": {
      "text/plain": [
       "Evidence-Based Reading and Writing    482\n",
       "Math                                   52\n",
       "dtype: int64"
      ]
     },
     "execution_count": 26,
     "metadata": {},
     "output_type": "execute_result"
    }
   ],
   "source": [
    "sat_min_2017 = sat_2017[[\"Evidence-Based Reading and Writing\", \"Math\"]].min()\n",
    "sat_min_2017"
   ]
  },
  {
   "cell_type": "code",
   "execution_count": 27,
   "metadata": {},
   "outputs": [
    {
     "data": {
      "text/plain": [
       "Evidence-Based Reading and Writing    480\n",
       "Math                                  480\n",
       "dtype: int64"
      ]
     },
     "execution_count": 27,
     "metadata": {},
     "output_type": "execute_result"
    }
   ],
   "source": [
    "sat_min_2018 = sat_2018[[\"Evidence-Based Reading and Writing\", \"Math\"]].min()\n",
    "sat_min_2018"
   ]
  },
  {
   "cell_type": "code",
   "execution_count": 28,
   "metadata": {},
   "outputs": [
    {
     "data": {
      "text/plain": [
       "English      16.3\n",
       "Math         18.0\n",
       "Reading      18.1\n",
       "Science       2.3\n",
       "Composite    17.8\n",
       "dtype: float64"
      ]
     },
     "execution_count": 28,
     "metadata": {},
     "output_type": "execute_result"
    }
   ],
   "source": [
    "act_min_2017 = act_2017[[\"English\", \"Math\", \"Reading\", \"Science\", \"Composite\"]].min()\n",
    "act_min_2017"
   ]
  },
  {
   "cell_type": "code",
   "execution_count": 29,
   "metadata": {},
   "outputs": [
    {
     "data": {
      "text/plain": [
       "17.7"
      ]
     },
     "execution_count": 29,
     "metadata": {},
     "output_type": "execute_result"
    }
   ],
   "source": [
    "act_min_2018 = act_2018[\"Composite\"].min()\n",
    "act_min_2018"
   ]
  },
  {
   "cell_type": "markdown",
   "metadata": {},
   "source": [
    "Answer:\n",
    "\n",
    "In the SAT 2017 dataset, the lowest scores for Math is 52 while the lowest score for Evidence-Based Reading and Writing is 482. [According to the College Board](https://collegereadiness.collegeboard.org/sat/scores/understanding-scores/interpreting), the lowest possible score for math is 200 so there's something off about our dataset. In SAT 2018, the lowest scores for Math and English were both 480.\n",
    "\n",
    "In the ACT 2017 dataset, the lowest scores in the data set are:\n",
    "\n",
    "English:      16.3\n",
    "\n",
    "Math:         18.0\n",
    "\n",
    "Reading:      18.1\n",
    "\n",
    "Science:       2.3\n",
    "\n",
    "Composite:    17.8\n",
    "\n",
    "The lowest composite score in the ACT 2017 dataset was 17.7"
   ]
  },
  {
   "cell_type": "markdown",
   "metadata": {},
   "source": [
    "#### 4c. Fix any errors you identified\n",
    "\n",
    "**The data is available** so there's no need to guess or calculate anything. If you didn't find any errors, continue to the next step."
   ]
  },
  {
   "cell_type": "code",
   "execution_count": 30,
   "metadata": {},
   "outputs": [],
   "source": [
    "# code\n",
    "# looking for the state with the math score that is out of range. \n",
    "sat_2017[sat_2017[\"Math\"]== 52]\n",
    "\n",
    "\n",
    "# According to the Maryland gov site, the national average for Math in 2017 was 528\n",
    "sat_2017[\"Math\"].replace(52, 528, inplace = True)"
   ]
  },
  {
   "cell_type": "code",
   "execution_count": 31,
   "metadata": {},
   "outputs": [],
   "source": [
    "# When looking at the tail of the dataset, act_2017,\n",
    "#looks like there's an x at the Composite score for Wyoming\n",
    "act_2017[\"Composite\"].replace(\"20.2x\", 20.2, inplace = True) # remove the x at the end of string"
   ]
  },
  {
   "cell_type": "code",
   "execution_count": 32,
   "metadata": {},
   "outputs": [],
   "source": [
    "# Later when I was merging the datasets, I noticed that \n",
    "# Maine is listed twice in ACT 2018 data set\n",
    "act_2018.drop(19, inplace = True) # removes the extra row"
   ]
  },
  {
   "cell_type": "markdown",
   "metadata": {},
   "source": [
    "#### 5. What are your data types? \n",
    "Display the data types of each feature. "
   ]
  },
  {
   "cell_type": "code",
   "execution_count": 16,
   "metadata": {
    "scrolled": true
   },
   "outputs": [
    {
     "data": {
      "text/plain": [
       "State                                 object\n",
       "Participation                         object\n",
       "Evidence-Based Reading and Writing     int64\n",
       "Math                                   int64\n",
       "Total                                  int64\n",
       "dtype: object"
      ]
     },
     "execution_count": 16,
     "metadata": {},
     "output_type": "execute_result"
    }
   ],
   "source": [
    "#code\n",
    "sat_2017.dtypes"
   ]
  },
  {
   "cell_type": "code",
   "execution_count": 17,
   "metadata": {
    "scrolled": true
   },
   "outputs": [
    {
     "data": {
      "text/plain": [
       "State                                 object\n",
       "Participation                         object\n",
       "Evidence-Based Reading and Writing     int64\n",
       "Math                                   int64\n",
       "Total                                  int64\n",
       "dtype: object"
      ]
     },
     "execution_count": 17,
     "metadata": {},
     "output_type": "execute_result"
    }
   ],
   "source": [
    "sat_2018.dtypes"
   ]
  },
  {
   "cell_type": "code",
   "execution_count": 18,
   "metadata": {},
   "outputs": [
    {
     "data": {
      "text/plain": [
       "State             object\n",
       "Participation     object\n",
       "English          float64\n",
       "Math             float64\n",
       "Reading          float64\n",
       "Science          float64\n",
       "Composite         object\n",
       "dtype: object"
      ]
     },
     "execution_count": 18,
     "metadata": {},
     "output_type": "execute_result"
    }
   ],
   "source": [
    "act_2017.dtypes"
   ]
  },
  {
   "cell_type": "code",
   "execution_count": 19,
   "metadata": {},
   "outputs": [
    {
     "data": {
      "text/plain": [
       "State             object\n",
       "Participation     object\n",
       "Composite        float64\n",
       "dtype: object"
      ]
     },
     "execution_count": 19,
     "metadata": {},
     "output_type": "execute_result"
    }
   ],
   "source": [
    "act_2018.dtypes"
   ]
  },
  {
   "cell_type": "markdown",
   "metadata": {},
   "source": [
    "What did you learn?\n",
    "- ACT stores its scores as floats, while SAT stores its scores as integers.\n",
    "- Do any of them seem odd?  \n",
    "    - Participation is stored as a string in all the data sets, which will not be useful for us when doing analysis.\n",
    "- Which ones are not as they should be?  \n",
    "    - Participation should be changed to a float.\n",
    "    - In ACT 2017, the composite score is stored as a string, and should be changed into a float."
   ]
  },
  {
   "cell_type": "markdown",
   "metadata": {},
   "source": [
    "#### 6. Fix Incorrect Data Types\n",
    "Based on what you discovered above, use appropriate methods to re-type incorrectly typed data.\n",
    "- Define a function that will allow you to convert participation rates to an appropriate numeric type. Use `map` or `apply` to change these columns in each dataframe."
   ]
  },
  {
   "cell_type": "code",
   "execution_count": 33,
   "metadata": {},
   "outputs": [],
   "source": [
    "# converting the participation values from strings into floats\n",
    "\n",
    "def string_to_float_percent(df, column_to_convert):\n",
    "    df[column_to_convert] = df[column_to_convert].str.replace(\"%\", \"\") # removes the % sign\n",
    "    df[column_to_convert] = df[column_to_convert].astype(\"float64\") # converts to float\n",
    "    df[column_to_convert]= df[column_to_convert].map(lambda x: x/100)\n"
   ]
  },
  {
   "cell_type": "code",
   "execution_count": 34,
   "metadata": {},
   "outputs": [],
   "source": [
    "# run my function on the participation columns\n",
    "\n",
    "string_to_float_percent(sat_2017, \"Participation\")\n",
    "string_to_float_percent(sat_2018, \"Participation\")\n",
    "string_to_float_percent(act_2017, \"Participation\")\n",
    "string_to_float_percent(act_2018, \"Participation\")"
   ]
  },
  {
   "cell_type": "markdown",
   "metadata": {},
   "source": [
    "- Fix any individual values preventing other columns from being the appropriate type."
   ]
  },
  {
   "cell_type": "code",
   "execution_count": 35,
   "metadata": {},
   "outputs": [],
   "source": [
    "# The composite scores in ACT are stored as strings\n",
    "# Here's a function to convert strings into floats\n",
    "def string_to_float(df, column_to_convert):\n",
    "    df[column_to_convert] = df[column_to_convert].astype(\"float64\")"
   ]
  },
  {
   "cell_type": "code",
   "execution_count": 36,
   "metadata": {},
   "outputs": [],
   "source": [
    "# run my function on the composite columns\n",
    "string_to_float(act_2017, \"Composite\")\n",
    "string_to_float(act_2018, \"Composite\")"
   ]
  },
  {
   "cell_type": "markdown",
   "metadata": {},
   "source": [
    "- Finish your data modifications by making sure the columns are now typed appropriately."
   ]
  },
  {
   "cell_type": "markdown",
   "metadata": {},
   "source": [
    "- Display the data types again to confirm they are correct."
   ]
  },
  {
   "cell_type": "code",
   "execution_count": 27,
   "metadata": {},
   "outputs": [
    {
     "data": {
      "text/plain": [
       "State             object\n",
       "Participation    float64\n",
       "English          float64\n",
       "Math             float64\n",
       "Reading          float64\n",
       "Science          float64\n",
       "Composite        float64\n",
       "dtype: object"
      ]
     },
     "execution_count": 27,
     "metadata": {},
     "output_type": "execute_result"
    }
   ],
   "source": [
    "#Code:\n",
    "act_2017.dtypes"
   ]
  },
  {
   "cell_type": "code",
   "execution_count": 28,
   "metadata": {},
   "outputs": [
    {
     "data": {
      "text/plain": [
       "State             object\n",
       "Participation    float64\n",
       "Composite        float64\n",
       "dtype: object"
      ]
     },
     "execution_count": 28,
     "metadata": {},
     "output_type": "execute_result"
    }
   ],
   "source": [
    "act_2018.dtypes"
   ]
  },
  {
   "cell_type": "code",
   "execution_count": 29,
   "metadata": {},
   "outputs": [
    {
     "data": {
      "text/plain": [
       "State                                  object\n",
       "Participation                         float64\n",
       "Evidence-Based Reading and Writing      int64\n",
       "Math                                    int64\n",
       "Total                                   int64\n",
       "dtype: object"
      ]
     },
     "execution_count": 29,
     "metadata": {},
     "output_type": "execute_result"
    }
   ],
   "source": [
    "sat_2017.dtypes"
   ]
  },
  {
   "cell_type": "code",
   "execution_count": 30,
   "metadata": {},
   "outputs": [
    {
     "data": {
      "text/plain": [
       "State                                  object\n",
       "Participation                         float64\n",
       "Evidence-Based Reading and Writing      int64\n",
       "Math                                    int64\n",
       "Total                                   int64\n",
       "dtype: object"
      ]
     },
     "execution_count": 30,
     "metadata": {},
     "output_type": "execute_result"
    }
   ],
   "source": [
    "sat_2018.dtypes"
   ]
  },
  {
   "cell_type": "markdown",
   "metadata": {},
   "source": [
    "#### 7. Rename Columns\n",
    "Change the names of the columns to more expressive names so that you can tell the difference the SAT columns and the ACT columns. Your solution should map all column names being changed at once (no repeated singular name-changes). **We will be combining these data with some of the data from 2018, and so you should name columns in an appropriate way**.\n",
    "\n",
    "**Guidelines**:\n",
    "- Column names should be all lowercase (you will thank yourself when you start pushing data to SQL later in the course)\n",
    "- Column names should not contain spaces (underscores will suffice--this allows for using the `df.column_name` method to access columns in addition to `df['column_name']`.\n",
    "- Column names should be unique and informative (the only feature that we actually share between dataframes is the state)."
   ]
  },
  {
   "cell_type": "code",
   "execution_count": 37,
   "metadata": {},
   "outputs": [],
   "source": [
    "# renaming columns for SAT 2017\n",
    "sat_2017.columns = sat_2017.columns.str.lower()\n",
    "\n",
    "sat_2017.rename(columns = {\"participation\": \"sat_participation_2017\",\n",
    "                     \"evidence-based reading and writing\": \"sat_verbal_2017\",\n",
    "                          \"math\": \"sat_math_2017\",\n",
    "                          \"total\": \"sat_total_2017\"},\n",
    "          inplace = True)"
   ]
  },
  {
   "cell_type": "code",
   "execution_count": 38,
   "metadata": {},
   "outputs": [],
   "source": [
    "# renaming columns for SAT 2018\n",
    "sat_2018.columns = sat_2018.columns.str.lower()\n",
    "\n",
    "sat_2018.rename(columns = {\"participation\": \"sat_participation_2018\",\n",
    "                     \"evidence-based reading and writing\": \"sat_verbal_2018\",\n",
    "                          \"math\": \"sat_math_2018\",\n",
    "                          \"total\": \"sat_total_2018\"},\n",
    "          inplace = True)"
   ]
  },
  {
   "cell_type": "code",
   "execution_count": 39,
   "metadata": {},
   "outputs": [],
   "source": [
    "# renaming columns for ACT 2017\n",
    "\n",
    "act_2017.columns = act_2017.columns.str.lower()\n",
    "\n",
    "act_2017.rename(columns = {\"participation\": \"act_participation_2017\",\n",
    "                             \"english\": \"act_english_2017\",\n",
    "                              \"math\": \"act_math_2017\",\n",
    "                              \"reading\": \"act_reading_2017\",\n",
    "                             \"science\" : \"act_science_2017\",\n",
    "                               \"composite\" : \"act_composite_2017\"},\n",
    "          inplace = True)"
   ]
  },
  {
   "cell_type": "code",
   "execution_count": 40,
   "metadata": {},
   "outputs": [],
   "source": [
    "# renaming columns for ACT 2018\n",
    "\n",
    "act_2018.columns = act_2018.columns.str.lower()\n",
    "\n",
    "act_2018.rename(columns = {\"participation\": \"act_participation_2018\",\n",
    "                           \"composite\" : \"act_composite_2018\"},\n",
    "          inplace = True)"
   ]
  },
  {
   "cell_type": "markdown",
   "metadata": {},
   "source": [
    "Before I merge my data sets, I will lowercase all state names so the merge is clean."
   ]
  },
  {
   "cell_type": "code",
   "execution_count": 41,
   "metadata": {},
   "outputs": [],
   "source": [
    "# lowercasing all the state names\n",
    "\n",
    "act_2017[\"state\"] = act_2017[\"state\"].str.lower()\n",
    "act_2018[\"state\"] = act_2018[\"state\"].str.lower()\n",
    "sat_2017[\"state\"] = sat_2017[\"state\"].str.lower()\n",
    "sat_2018[\"state\"] = sat_2018[\"state\"].str.lower()"
   ]
  },
  {
   "cell_type": "markdown",
   "metadata": {},
   "source": [
    "#### 8. Create a data dictionary\n",
    "\n",
    "Now that we've fixed our data, and given it appropriate names, let's create a [data dictionary](http://library.ucmerced.edu/node/10249). \n",
    "\n",
    "A data dictionary provides a quick overview of features/variables/columns, alongside data types and descriptions. The more descriptive you can be, the more useful this document is.\n",
    "\n",
    "Example of a Fictional Data Dictionary Entry: \n",
    "\n",
    "|Feature|Type|Dataset|Description|\n",
    "|---|---|---|---|\n",
    "|**county_pop**|*integer*|2010 census|The population of the county (units in thousands, where 2.5 represents 2500 people).| \n",
    "|**per_poverty**|*float*|2010 census|The percent of the county over the age of 18 living below the 200% of official US poverty rate (units percent to two decimal places 98.10 means 98.1%)|\n",
    "\n",
    "[Here's a quick link to a short guide for formatting markdown in Jupyter notebooks](https://jupyter-notebook.readthedocs.io/en/stable/examples/Notebook/Working%20With%20Markdown%20Cells.html).\n",
    "\n",
    "Provided is the skeleton for formatting a markdown table, with columns headers that will help you create a data dictionary to quickly summarize your data, as well as some examples. **This would be a great thing to copy and paste into your custom README for this project.**"
   ]
  },
  {
   "cell_type": "markdown",
   "metadata": {},
   "source": [
    "|Feature|Type|Dataset|Description|\n",
    "|---|---|---|---|\n",
    "|state                     | object|ACT|\n",
    "|act_participation_2017    |float64|ACT|Percent of students in the the class of 2017 who took the ACT|\n",
    "|act_english_2017          |float64|ACT|State average in English|\n",
    "|act_math_2017             |float64|ACT|State average in Math|\n",
    "|act_reading_2017          |float64|ACT|State average in Reading|\n",
    "|act_science_2017          |float64|ACT|State average in Science|\n",
    "|act_composite_2017        |float64|ACT|State average Composite score| \n",
    "|act_participation_2018    |float64|ACT|Percent of students in the the class of 2018 who took the ACT|\n",
    "|act_composite_2018        |float64|ACT|State average Composite score| \n",
    "|sat_participation_2017    |float64|SAT|Percent of students in the the class of 2017 who took the SAT|\n",
    "|sat_verbal_2017                 |int64|SAT|State average in Reading and Writing|\n",
    "|sat_math_2017               |int64|SAT|State average in Math|\n",
    "|sat_total_2017              |int64|SAT|State average Total score|\n",
    "|sat_participation_2018    |float64|SAT|Percent of students in the the class of 2018 who took the SAT|\n",
    "|sat_verbal_2018                 |int64|SAT|State average in Reading and Writing|\n",
    "|sat_math_2018               |int64|SAT|State average in Math|\n",
    "|sat_total_2018              |int64|SAT|State average Total score|\n",
    "|act_participation_change|float64|ACT|Change in participation rates from 2017 to 2018|\n",
    "|sat_participation_change|float64|SAT|Change in participation rates from 2017 to 2018|"
   ]
  },
  {
   "cell_type": "markdown",
   "metadata": {},
   "source": [
    "#### 9. Drop unnecessary rows\n",
    "\n",
    "One of our dataframes contains an extra row. Identify and remove this from the dataframe."
   ]
  },
  {
   "cell_type": "code",
   "execution_count": 42,
   "metadata": {},
   "outputs": [],
   "source": [
    "# ACT 2017 had a national row\n",
    "act_2017.drop(0, axis=0, inplace= True)"
   ]
  },
  {
   "cell_type": "markdown",
   "metadata": {},
   "source": [
    "#### 10. Merge Dataframes\n",
    "\n",
    "Join the 2017 ACT and SAT dataframes using the state in each dataframe as the key. Assign this to a new variable."
   ]
  },
  {
   "cell_type": "code",
   "execution_count": 43,
   "metadata": {},
   "outputs": [],
   "source": [
    "# merging the ACT and SAT 2017 data sets\n",
    "act_sat_2017 = pd.merge(act_2017, sat_2017, how = \"left\")"
   ]
  },
  {
   "cell_type": "markdown",
   "metadata": {},
   "source": [
    "#### 11. Save your cleaned, merged dataframe\n",
    "\n",
    "Use a relative path to save out your data as `combined_2017.csv`."
   ]
  },
  {
   "cell_type": "code",
   "execution_count": 44,
   "metadata": {},
   "outputs": [],
   "source": [
    "# write out the dataset into a csv\n",
    "act_sat_2017.to_csv(\"../data/act_sat_2017.csv\", index = False)"
   ]
  },
  {
   "cell_type": "markdown",
   "metadata": {},
   "source": [
    "## 2018 Data Import and Cleaning"
   ]
  },
  {
   "cell_type": "markdown",
   "metadata": {},
   "source": [
    "Links to the 2018 ACT and SAT data are provided in the README. These data live in PDFs, and so you'll get to enjoy practicing some *manual* data collection. Save these data as a CSV in your `data` directory, and import, explore, and clean these data in the same way you did above. **Make sure you comment on your steps so it is clear *why* you are doing each process**."
   ]
  },
  {
   "cell_type": "code",
   "execution_count": 45,
   "metadata": {},
   "outputs": [],
   "source": [
    "#read in data from 2018 ACT PDF\n",
    "act_2018_pdf = pd.read_csv('../data/act_2018_pdf.csv')"
   ]
  },
  {
   "cell_type": "code",
   "execution_count": 46,
   "metadata": {},
   "outputs": [],
   "source": [
    "act_2018_pdf.drop(33, axis=0, inplace= True) #remove washington DC"
   ]
  },
  {
   "cell_type": "markdown",
   "metadata": {},
   "source": [
    "#### Combine your 2017 and 2018 data into a single dataframe\n",
    "Joining on state names should work, assuming you formatted all your state names identically. Make sure none of your columns (other than state) have identical names. Do yourself a favor and decide if you're encoding participation rates as floats or integers and standardize this across your datasets.\n",
    "\n",
    "Save the contents of this merged dataframe as `final.csv`.\n",
    "\n",
    "**Use this combined dataframe for the remainder of the project**."
   ]
  },
  {
   "cell_type": "code",
   "execution_count": 47,
   "metadata": {},
   "outputs": [],
   "source": [
    "act = pd.merge(act_2017, act_2018, how = \"left\")# i used the given 2018 csv , not the csv from PDF "
   ]
  },
  {
   "cell_type": "code",
   "execution_count": 48,
   "metadata": {},
   "outputs": [],
   "source": [
    "sat = pd.merge(sat_2017, sat_2018, how = \"left\")"
   ]
  },
  {
   "cell_type": "code",
   "execution_count": 49,
   "metadata": {},
   "outputs": [],
   "source": [
    "final = pd.merge(act, sat, how = \"left\")"
   ]
  },
  {
   "cell_type": "code",
   "execution_count": 45,
   "metadata": {},
   "outputs": [],
   "source": [
    "# write file to csv\n",
    "final.to_csv(\"../data/final.csv\", index = False)"
   ]
  },
  {
   "cell_type": "markdown",
   "metadata": {},
   "source": [
    "## Exploratory Data Analysis\n",
    "\n",
    "\n",
    "### Summary Statistics\n",
    "Transpose the output of pandas `describe` method to create a quick overview of each numeric feature."
   ]
  },
  {
   "cell_type": "code",
   "execution_count": 46,
   "metadata": {},
   "outputs": [
    {
     "data": {
      "text/html": [
       "<div>\n",
       "<style scoped>\n",
       "    .dataframe tbody tr th:only-of-type {\n",
       "        vertical-align: middle;\n",
       "    }\n",
       "\n",
       "    .dataframe tbody tr th {\n",
       "        vertical-align: top;\n",
       "    }\n",
       "\n",
       "    .dataframe thead th {\n",
       "        text-align: right;\n",
       "    }\n",
       "</style>\n",
       "<table border=\"1\" class=\"dataframe\">\n",
       "  <thead>\n",
       "    <tr style=\"text-align: right;\">\n",
       "      <th></th>\n",
       "      <th>act_participation_2017</th>\n",
       "      <th>act_english_2017</th>\n",
       "      <th>act_math_2017</th>\n",
       "      <th>act_reading_2017</th>\n",
       "      <th>act_science_2017</th>\n",
       "      <th>act_composite_2017</th>\n",
       "      <th>act_participation_2018</th>\n",
       "      <th>act_composite_2018</th>\n",
       "      <th>sat_participation_2017</th>\n",
       "      <th>sat_verbal_2017</th>\n",
       "      <th>sat_math_2017</th>\n",
       "      <th>sat_total_2017</th>\n",
       "      <th>sat_participation_2018</th>\n",
       "      <th>sat_verbal_2018</th>\n",
       "      <th>sat_math_2018</th>\n",
       "      <th>sat_total_2018</th>\n",
       "    </tr>\n",
       "  </thead>\n",
       "  <tbody>\n",
       "    <tr>\n",
       "      <th>count</th>\n",
       "      <td>51.000000</td>\n",
       "      <td>51.000000</td>\n",
       "      <td>51.000000</td>\n",
       "      <td>51.000000</td>\n",
       "      <td>51.000000</td>\n",
       "      <td>51.000000</td>\n",
       "      <td>51.000000</td>\n",
       "      <td>51.000000</td>\n",
       "      <td>51.000000</td>\n",
       "      <td>51.000000</td>\n",
       "      <td>51.000000</td>\n",
       "      <td>51.000000</td>\n",
       "      <td>51.000000</td>\n",
       "      <td>51.000000</td>\n",
       "      <td>51.000000</td>\n",
       "      <td>51.000000</td>\n",
       "    </tr>\n",
       "    <tr>\n",
       "      <th>mean</th>\n",
       "      <td>0.652549</td>\n",
       "      <td>20.931373</td>\n",
       "      <td>21.182353</td>\n",
       "      <td>22.013725</td>\n",
       "      <td>21.041176</td>\n",
       "      <td>21.519608</td>\n",
       "      <td>0.617255</td>\n",
       "      <td>21.496078</td>\n",
       "      <td>0.398039</td>\n",
       "      <td>569.117647</td>\n",
       "      <td>556.960784</td>\n",
       "      <td>1126.098039</td>\n",
       "      <td>0.457451</td>\n",
       "      <td>563.686275</td>\n",
       "      <td>556.235294</td>\n",
       "      <td>1120.019608</td>\n",
       "    </tr>\n",
       "    <tr>\n",
       "      <th>std</th>\n",
       "      <td>0.321408</td>\n",
       "      <td>2.353677</td>\n",
       "      <td>1.981989</td>\n",
       "      <td>2.067271</td>\n",
       "      <td>3.182463</td>\n",
       "      <td>2.020695</td>\n",
       "      <td>0.340371</td>\n",
       "      <td>2.111583</td>\n",
       "      <td>0.352766</td>\n",
       "      <td>45.666901</td>\n",
       "      <td>47.068869</td>\n",
       "      <td>92.494812</td>\n",
       "      <td>0.373143</td>\n",
       "      <td>47.502627</td>\n",
       "      <td>47.772623</td>\n",
       "      <td>94.155083</td>\n",
       "    </tr>\n",
       "    <tr>\n",
       "      <th>min</th>\n",
       "      <td>0.080000</td>\n",
       "      <td>16.300000</td>\n",
       "      <td>18.000000</td>\n",
       "      <td>18.100000</td>\n",
       "      <td>2.300000</td>\n",
       "      <td>17.800000</td>\n",
       "      <td>0.070000</td>\n",
       "      <td>17.700000</td>\n",
       "      <td>0.020000</td>\n",
       "      <td>482.000000</td>\n",
       "      <td>468.000000</td>\n",
       "      <td>950.000000</td>\n",
       "      <td>0.020000</td>\n",
       "      <td>480.000000</td>\n",
       "      <td>480.000000</td>\n",
       "      <td>977.000000</td>\n",
       "    </tr>\n",
       "    <tr>\n",
       "      <th>25%</th>\n",
       "      <td>0.310000</td>\n",
       "      <td>19.000000</td>\n",
       "      <td>19.400000</td>\n",
       "      <td>20.450000</td>\n",
       "      <td>19.900000</td>\n",
       "      <td>19.800000</td>\n",
       "      <td>0.285000</td>\n",
       "      <td>19.950000</td>\n",
       "      <td>0.040000</td>\n",
       "      <td>533.500000</td>\n",
       "      <td>523.500000</td>\n",
       "      <td>1055.500000</td>\n",
       "      <td>0.045000</td>\n",
       "      <td>534.500000</td>\n",
       "      <td>522.500000</td>\n",
       "      <td>1057.500000</td>\n",
       "    </tr>\n",
       "    <tr>\n",
       "      <th>50%</th>\n",
       "      <td>0.690000</td>\n",
       "      <td>20.700000</td>\n",
       "      <td>20.900000</td>\n",
       "      <td>21.800000</td>\n",
       "      <td>21.300000</td>\n",
       "      <td>21.400000</td>\n",
       "      <td>0.660000</td>\n",
       "      <td>21.300000</td>\n",
       "      <td>0.380000</td>\n",
       "      <td>559.000000</td>\n",
       "      <td>548.000000</td>\n",
       "      <td>1107.000000</td>\n",
       "      <td>0.520000</td>\n",
       "      <td>552.000000</td>\n",
       "      <td>544.000000</td>\n",
       "      <td>1098.000000</td>\n",
       "    </tr>\n",
       "    <tr>\n",
       "      <th>75%</th>\n",
       "      <td>1.000000</td>\n",
       "      <td>23.300000</td>\n",
       "      <td>23.100000</td>\n",
       "      <td>24.150000</td>\n",
       "      <td>22.750000</td>\n",
       "      <td>23.600000</td>\n",
       "      <td>1.000000</td>\n",
       "      <td>23.650000</td>\n",
       "      <td>0.660000</td>\n",
       "      <td>613.000000</td>\n",
       "      <td>599.000000</td>\n",
       "      <td>1212.000000</td>\n",
       "      <td>0.775000</td>\n",
       "      <td>610.500000</td>\n",
       "      <td>593.500000</td>\n",
       "      <td>1204.000000</td>\n",
       "    </tr>\n",
       "    <tr>\n",
       "      <th>max</th>\n",
       "      <td>1.000000</td>\n",
       "      <td>25.500000</td>\n",
       "      <td>25.300000</td>\n",
       "      <td>26.000000</td>\n",
       "      <td>24.900000</td>\n",
       "      <td>25.500000</td>\n",
       "      <td>1.000000</td>\n",
       "      <td>25.600000</td>\n",
       "      <td>1.000000</td>\n",
       "      <td>644.000000</td>\n",
       "      <td>651.000000</td>\n",
       "      <td>1295.000000</td>\n",
       "      <td>1.000000</td>\n",
       "      <td>643.000000</td>\n",
       "      <td>655.000000</td>\n",
       "      <td>1298.000000</td>\n",
       "    </tr>\n",
       "  </tbody>\n",
       "</table>\n",
       "</div>"
      ],
      "text/plain": [
       "       act_participation_2017  act_english_2017  act_math_2017  \\\n",
       "count               51.000000         51.000000      51.000000   \n",
       "mean                 0.652549         20.931373      21.182353   \n",
       "std                  0.321408          2.353677       1.981989   \n",
       "min                  0.080000         16.300000      18.000000   \n",
       "25%                  0.310000         19.000000      19.400000   \n",
       "50%                  0.690000         20.700000      20.900000   \n",
       "75%                  1.000000         23.300000      23.100000   \n",
       "max                  1.000000         25.500000      25.300000   \n",
       "\n",
       "       act_reading_2017  act_science_2017  act_composite_2017  \\\n",
       "count         51.000000         51.000000           51.000000   \n",
       "mean          22.013725         21.041176           21.519608   \n",
       "std            2.067271          3.182463            2.020695   \n",
       "min           18.100000          2.300000           17.800000   \n",
       "25%           20.450000         19.900000           19.800000   \n",
       "50%           21.800000         21.300000           21.400000   \n",
       "75%           24.150000         22.750000           23.600000   \n",
       "max           26.000000         24.900000           25.500000   \n",
       "\n",
       "       act_participation_2018  act_composite_2018  sat_participation_2017  \\\n",
       "count               51.000000           51.000000               51.000000   \n",
       "mean                 0.617255           21.496078                0.398039   \n",
       "std                  0.340371            2.111583                0.352766   \n",
       "min                  0.070000           17.700000                0.020000   \n",
       "25%                  0.285000           19.950000                0.040000   \n",
       "50%                  0.660000           21.300000                0.380000   \n",
       "75%                  1.000000           23.650000                0.660000   \n",
       "max                  1.000000           25.600000                1.000000   \n",
       "\n",
       "       sat_verbal_2017  sat_math_2017  sat_total_2017  sat_participation_2018  \\\n",
       "count        51.000000      51.000000       51.000000               51.000000   \n",
       "mean        569.117647     556.960784     1126.098039                0.457451   \n",
       "std          45.666901      47.068869       92.494812                0.373143   \n",
       "min         482.000000     468.000000      950.000000                0.020000   \n",
       "25%         533.500000     523.500000     1055.500000                0.045000   \n",
       "50%         559.000000     548.000000     1107.000000                0.520000   \n",
       "75%         613.000000     599.000000     1212.000000                0.775000   \n",
       "max         644.000000     651.000000     1295.000000                1.000000   \n",
       "\n",
       "       sat_verbal_2018  sat_math_2018  sat_total_2018  \n",
       "count        51.000000      51.000000       51.000000  \n",
       "mean        563.686275     556.235294     1120.019608  \n",
       "std          47.502627      47.772623       94.155083  \n",
       "min         480.000000     480.000000      977.000000  \n",
       "25%         534.500000     522.500000     1057.500000  \n",
       "50%         552.000000     544.000000     1098.000000  \n",
       "75%         610.500000     593.500000     1204.000000  \n",
       "max         643.000000     655.000000     1298.000000  "
      ]
     },
     "execution_count": 46,
     "metadata": {},
     "output_type": "execute_result"
    }
   ],
   "source": [
    "#Code:\n",
    "final.describe()"
   ]
  },
  {
   "cell_type": "markdown",
   "metadata": {},
   "source": [
    "#### Manually calculate standard deviation\n",
    "\n",
    "$$\\sigma = \\sqrt{\\frac{1}{n}\\sum_{i=1}^n(x_i - \\mu)^2}$$\n",
    "\n",
    "- Write a function to calculate standard deviation using the formula above"
   ]
  },
  {
   "cell_type": "code",
   "execution_count": 50,
   "metadata": {},
   "outputs": [],
   "source": [
    "def calculate_std(column):\n",
    "    mean = np.mean(column)\n",
    "    sum=0\n",
    "    for i in column:\n",
    "        sum+= ((i - mean)**2)\n",
    "    sd = np.sqrt(sum/51)\n",
    "    return sd"
   ]
  },
  {
   "cell_type": "markdown",
   "metadata": {},
   "source": [
    "- Use a **dictionary comprehension** to apply your standard deviation function to each numeric column in the dataframe.  **No loops**  \n",
    "- Assign the output to variable `sd` as a dictionary where: \n",
    "    - Each column name is now a key \n",
    "    - That standard deviation of the column is the value \n",
    "     \n",
    "*Example Output :* `{'ACT_Math': 120, 'ACT_Reading': 120, ...}`"
   ]
  },
  {
   "cell_type": "code",
   "execution_count": 51,
   "metadata": {},
   "outputs": [
    {
     "data": {
      "text/plain": [
       "{'act_participation_2017': 0.3182417575123181,\n",
       " 'act_english_2017': 2.3304876369363363,\n",
       " 'act_math_2017': 1.9624620273436781,\n",
       " 'act_reading_2017': 2.0469029314842646,\n",
       " 'act_science_2017': 3.151107895464408,\n",
       " 'act_composite_2017': 2.000786081581989,\n",
       " 'act_participation_2018': 0.33701735820410317,\n",
       " 'act_composite_2018': 2.090779082141178,\n",
       " 'sat_participation_2017': 0.3492907076664507,\n",
       " 'sat_verbal_2017': 45.21697020437866,\n",
       " 'sat_math_2017': 46.605125016635505,\n",
       " 'sat_total_2017': 91.58351056778743,\n",
       " 'sat_participation_2018': 0.3694661922353942,\n",
       " 'sat_verbal_2018': 47.03460978357609,\n",
       " 'sat_math_2018': 47.30194550378352,\n",
       " 'sat_total_2018': 93.22742384464433}"
      ]
     },
     "execution_count": 51,
     "metadata": {},
     "output_type": "execute_result"
    }
   ],
   "source": [
    "# custom dictionary for std for each column\n",
    "{key: calculate_std(value) for key, value in final.iloc[:, 1:].items()}"
   ]
  },
  {
   "cell_type": "code",
   "execution_count": 52,
   "metadata": {
    "scrolled": true
   },
   "outputs": [
    {
     "data": {
      "text/plain": [
       "{'act_participation_2017': 0.3182417575123181,\n",
       " 'act_english_2017': 2.3304876369363363,\n",
       " 'act_math_2017': 1.9624620273436781,\n",
       " 'act_reading_2017': 2.0469029314842646,\n",
       " 'act_science_2017': 3.151107895464408,\n",
       " 'act_composite_2017': 2.000786081581989,\n",
       " 'act_participation_2018': 0.33701735820410317,\n",
       " 'act_composite_2018': 2.090779082141178,\n",
       " 'sat_participation_2017': 0.3492907076664507,\n",
       " 'sat_verbal_2017': 45.21697020437866,\n",
       " 'sat_math_2017': 46.605125016635505,\n",
       " 'sat_total_2017': 91.58351056778743,\n",
       " 'sat_participation_2018': 0.3694661922353942,\n",
       " 'sat_verbal_2018': 47.03460978357609,\n",
       " 'sat_math_2018': 47.30194550378352,\n",
       " 'sat_total_2018': 93.22742384464433}"
      ]
     },
     "execution_count": 52,
     "metadata": {},
     "output_type": "execute_result"
    }
   ],
   "source": [
    "# comparing my values to the numpy std values\n",
    "{key: np.std(value) for key, value in final.iloc[:, 1:].items()}"
   ]
  },
  {
   "cell_type": "markdown",
   "metadata": {},
   "source": [
    "Do your manually calculated standard deviations match up with the output from pandas `describe`? What about numpy's `std` method?"
   ]
  },
  {
   "cell_type": "markdown",
   "metadata": {},
   "source": [
    "My manual calculations are closer to the output from pandas describe. Both my manual calculations and pandas describe are slightly off from numpy's std method. I assume this is because I used an integer value, 51, to calculate my mean as opposed to a float."
   ]
  },
  {
   "cell_type": "markdown",
   "metadata": {},
   "source": [
    "#### Investigate trends in the data\n",
    "Using sorting and/or masking (along with the `.head` method to not print our entire dataframe), consider the following questions:\n",
    "\n",
    "- Which states have the highest and lowest participation rates for the:\n",
    "    - 2017 SAT?\n",
    "    - 2018 SAT?\n",
    "    - 2017 ACT?\n",
    "    - 2018 ACT?"
   ]
  },
  {
   "cell_type": "markdown",
   "metadata": {},
   "source": [
    "A quick look into the participation column shows that many states of 100% participation, so I will create a filter for states that have 100% to get the highest participation rates."
   ]
  },
  {
   "cell_type": "code",
   "execution_count": 53,
   "metadata": {},
   "outputs": [],
   "source": [
    "# made a function to create a dataframe of states with the highest participation rates\n",
    "def get_states_high_participation(df, columns_interested):\n",
    "    for column in columns_interested:\n",
    "        states_high_participation_dict.update({column: list(df[df[column] ==1][\"state\"])})"
   ]
  },
  {
   "cell_type": "code",
   "execution_count": 54,
   "metadata": {},
   "outputs": [],
   "source": [
    "# create a dictionary of states with the highest participation\n",
    "\n",
    "columns_interested = [\"act_participation_2017\", \"act_participation_2018\", \"sat_participation_2017\", \"sat_participation_2018\"]\n",
    "states_high_participation_dict= {}\n",
    "\n",
    "get_states_high_participation(final, columns_interested)"
   ]
  },
  {
   "cell_type": "code",
   "execution_count": 55,
   "metadata": {},
   "outputs": [],
   "source": [
    "# convert dictionary to data frame\n",
    "\n",
    "states_high_participation_df = pd.DataFrame.from_dict(states_high_participation_dict, orient=\"index\").T"
   ]
  },
  {
   "cell_type": "markdown",
   "metadata": {},
   "source": [
    "## Here are the states with 100% participation for each of the test/years:\n",
    "\n",
    "I wanted to create a data frame to be able to compare the states between each year.\n",
    "\n",
    "Interesting to note that Colorado and Minnesota had 100% participation in ACT 2017, but not in 2018. Washington DC had 100% participation in SAT 2017, but not in 2018. We can look to see if these states are switching between tests, maybe."
   ]
  },
  {
   "cell_type": "code",
   "execution_count": 57,
   "metadata": {},
   "outputs": [
    {
     "name": "stdout",
     "output_type": "stream",
     "text": [
      "States that had a 100% participation on either tests\n"
     ]
    },
    {
     "data": {
      "text/html": [
       "<div>\n",
       "<style scoped>\n",
       "    .dataframe tbody tr th:only-of-type {\n",
       "        vertical-align: middle;\n",
       "    }\n",
       "\n",
       "    .dataframe tbody tr th {\n",
       "        vertical-align: top;\n",
       "    }\n",
       "\n",
       "    .dataframe thead th {\n",
       "        text-align: right;\n",
       "    }\n",
       "</style>\n",
       "<table border=\"1\" class=\"dataframe\">\n",
       "  <thead>\n",
       "    <tr style=\"text-align: right;\">\n",
       "      <th></th>\n",
       "      <th>act_participation_2017</th>\n",
       "      <th>act_participation_2018</th>\n",
       "      <th>sat_participation_2017</th>\n",
       "      <th>sat_participation_2018</th>\n",
       "    </tr>\n",
       "  </thead>\n",
       "  <tbody>\n",
       "    <tr>\n",
       "      <th>0</th>\n",
       "      <td>alabama</td>\n",
       "      <td>alabama</td>\n",
       "      <td>connecticut</td>\n",
       "      <td>colorado</td>\n",
       "    </tr>\n",
       "    <tr>\n",
       "      <th>1</th>\n",
       "      <td>arkansas</td>\n",
       "      <td>arkansas</td>\n",
       "      <td>delaware</td>\n",
       "      <td>connecticut</td>\n",
       "    </tr>\n",
       "    <tr>\n",
       "      <th>2</th>\n",
       "      <td>colorado</td>\n",
       "      <td>kentucky</td>\n",
       "      <td>district of columbia</td>\n",
       "      <td>delaware</td>\n",
       "    </tr>\n",
       "    <tr>\n",
       "      <th>3</th>\n",
       "      <td>kentucky</td>\n",
       "      <td>louisiana</td>\n",
       "      <td>michigan</td>\n",
       "      <td>idaho</td>\n",
       "    </tr>\n",
       "    <tr>\n",
       "      <th>4</th>\n",
       "      <td>louisiana</td>\n",
       "      <td>mississippi</td>\n",
       "      <td>None</td>\n",
       "      <td>michigan</td>\n",
       "    </tr>\n",
       "    <tr>\n",
       "      <th>5</th>\n",
       "      <td>minnesota</td>\n",
       "      <td>missouri</td>\n",
       "      <td>None</td>\n",
       "      <td>None</td>\n",
       "    </tr>\n",
       "    <tr>\n",
       "      <th>6</th>\n",
       "      <td>mississippi</td>\n",
       "      <td>montana</td>\n",
       "      <td>None</td>\n",
       "      <td>None</td>\n",
       "    </tr>\n",
       "    <tr>\n",
       "      <th>7</th>\n",
       "      <td>missouri</td>\n",
       "      <td>nebraska</td>\n",
       "      <td>None</td>\n",
       "      <td>None</td>\n",
       "    </tr>\n",
       "    <tr>\n",
       "      <th>8</th>\n",
       "      <td>montana</td>\n",
       "      <td>nevada</td>\n",
       "      <td>None</td>\n",
       "      <td>None</td>\n",
       "    </tr>\n",
       "    <tr>\n",
       "      <th>9</th>\n",
       "      <td>nevada</td>\n",
       "      <td>north carolina</td>\n",
       "      <td>None</td>\n",
       "      <td>None</td>\n",
       "    </tr>\n",
       "    <tr>\n",
       "      <th>10</th>\n",
       "      <td>north carolina</td>\n",
       "      <td>ohio</td>\n",
       "      <td>None</td>\n",
       "      <td>None</td>\n",
       "    </tr>\n",
       "    <tr>\n",
       "      <th>11</th>\n",
       "      <td>oklahoma</td>\n",
       "      <td>oklahoma</td>\n",
       "      <td>None</td>\n",
       "      <td>None</td>\n",
       "    </tr>\n",
       "    <tr>\n",
       "      <th>12</th>\n",
       "      <td>south carolina</td>\n",
       "      <td>south carolina</td>\n",
       "      <td>None</td>\n",
       "      <td>None</td>\n",
       "    </tr>\n",
       "    <tr>\n",
       "      <th>13</th>\n",
       "      <td>tennessee</td>\n",
       "      <td>tennessee</td>\n",
       "      <td>None</td>\n",
       "      <td>None</td>\n",
       "    </tr>\n",
       "    <tr>\n",
       "      <th>14</th>\n",
       "      <td>utah</td>\n",
       "      <td>utah</td>\n",
       "      <td>None</td>\n",
       "      <td>None</td>\n",
       "    </tr>\n",
       "    <tr>\n",
       "      <th>15</th>\n",
       "      <td>wisconsin</td>\n",
       "      <td>wisconsin</td>\n",
       "      <td>None</td>\n",
       "      <td>None</td>\n",
       "    </tr>\n",
       "    <tr>\n",
       "      <th>16</th>\n",
       "      <td>wyoming</td>\n",
       "      <td>wyoming</td>\n",
       "      <td>None</td>\n",
       "      <td>None</td>\n",
       "    </tr>\n",
       "  </tbody>\n",
       "</table>\n",
       "</div>"
      ],
      "text/plain": [
       "   act_participation_2017 act_participation_2018 sat_participation_2017  \\\n",
       "0                 alabama                alabama            connecticut   \n",
       "1                arkansas               arkansas               delaware   \n",
       "2                colorado               kentucky   district of columbia   \n",
       "3                kentucky              louisiana               michigan   \n",
       "4               louisiana            mississippi                   None   \n",
       "5               minnesota               missouri                   None   \n",
       "6             mississippi                montana                   None   \n",
       "7                missouri               nebraska                   None   \n",
       "8                 montana                 nevada                   None   \n",
       "9                  nevada         north carolina                   None   \n",
       "10         north carolina                   ohio                   None   \n",
       "11               oklahoma               oklahoma                   None   \n",
       "12         south carolina         south carolina                   None   \n",
       "13              tennessee              tennessee                   None   \n",
       "14                   utah                   utah                   None   \n",
       "15              wisconsin              wisconsin                   None   \n",
       "16                wyoming                wyoming                   None   \n",
       "\n",
       "   sat_participation_2018  \n",
       "0                colorado  \n",
       "1             connecticut  \n",
       "2                delaware  \n",
       "3                   idaho  \n",
       "4                michigan  \n",
       "5                    None  \n",
       "6                    None  \n",
       "7                    None  \n",
       "8                    None  \n",
       "9                    None  \n",
       "10                   None  \n",
       "11                   None  \n",
       "12                   None  \n",
       "13                   None  \n",
       "14                   None  \n",
       "15                   None  \n",
       "16                   None  "
      ]
     },
     "execution_count": 57,
     "metadata": {},
     "output_type": "execute_result"
    }
   ],
   "source": [
    "print(\"States that had a 100% participation on either tests\")\n",
    "states_high_participation_df \n",
    "# I could have done this without creating a dictionary and then converting back into a pandas dataframe,\n",
    "# but I thought it would be easier to read a list of state names in columns"
   ]
  },
  {
   "cell_type": "markdown",
   "metadata": {},
   "source": [
    "## Which states have the lowest participation?"
   ]
  },
  {
   "cell_type": "code",
   "execution_count": 62,
   "metadata": {},
   "outputs": [],
   "source": [
    "# select for 5 states that had the lowest participation rates\n",
    "states_low_participation_dict= {}\n",
    "def get_states_low_participation(df, columns_interested):\n",
    "    for column in columns_interested:\n",
    "        states_low_participation_dict.update({column: \n",
    "                                             list(df.sort_values(column, ascending = False)[\"state\"].tail(5))})"
   ]
  },
  {
   "cell_type": "code",
   "execution_count": 63,
   "metadata": {},
   "outputs": [],
   "source": [
    "get_states_low_participation(final, columns_interested) # create the dictionary"
   ]
  },
  {
   "cell_type": "code",
   "execution_count": 65,
   "metadata": {},
   "outputs": [],
   "source": [
    "states_low_participation_df = pd.DataFrame.from_dict(states_low_participation_dict)"
   ]
  },
  {
   "cell_type": "markdown",
   "metadata": {},
   "source": [
    "## 5 states with the lowest participation each year"
   ]
  },
  {
   "cell_type": "code",
   "execution_count": 66,
   "metadata": {
    "scrolled": true
   },
   "outputs": [
    {
     "data": {
      "text/html": [
       "<div>\n",
       "<style scoped>\n",
       "    .dataframe tbody tr th:only-of-type {\n",
       "        vertical-align: middle;\n",
       "    }\n",
       "\n",
       "    .dataframe tbody tr th {\n",
       "        vertical-align: top;\n",
       "    }\n",
       "\n",
       "    .dataframe thead th {\n",
       "        text-align: right;\n",
       "    }\n",
       "</style>\n",
       "<table border=\"1\" class=\"dataframe\">\n",
       "  <thead>\n",
       "    <tr style=\"text-align: right;\">\n",
       "      <th></th>\n",
       "      <th>act_participation_2017</th>\n",
       "      <th>act_participation_2018</th>\n",
       "      <th>sat_participation_2017</th>\n",
       "      <th>sat_participation_2018</th>\n",
       "    </tr>\n",
       "  </thead>\n",
       "  <tbody>\n",
       "    <tr>\n",
       "      <th>0</th>\n",
       "      <td>pennsylvania</td>\n",
       "      <td>pennsylvania</td>\n",
       "      <td>arkansas</td>\n",
       "      <td>mississippi</td>\n",
       "    </tr>\n",
       "    <tr>\n",
       "      <th>1</th>\n",
       "      <td>rhode island</td>\n",
       "      <td>delaware</td>\n",
       "      <td>wyoming</td>\n",
       "      <td>iowa</td>\n",
       "    </tr>\n",
       "    <tr>\n",
       "      <th>2</th>\n",
       "      <td>delaware</td>\n",
       "      <td>new hampshire</td>\n",
       "      <td>north dakota</td>\n",
       "      <td>wisconsin</td>\n",
       "    </tr>\n",
       "    <tr>\n",
       "      <th>3</th>\n",
       "      <td>new hampshire</td>\n",
       "      <td>rhode island</td>\n",
       "      <td>mississippi</td>\n",
       "      <td>wyoming</td>\n",
       "    </tr>\n",
       "    <tr>\n",
       "      <th>4</th>\n",
       "      <td>maine</td>\n",
       "      <td>maine</td>\n",
       "      <td>iowa</td>\n",
       "      <td>north dakota</td>\n",
       "    </tr>\n",
       "  </tbody>\n",
       "</table>\n",
       "</div>"
      ],
      "text/plain": [
       "  act_participation_2017 act_participation_2018 sat_participation_2017  \\\n",
       "0           pennsylvania           pennsylvania               arkansas   \n",
       "1           rhode island               delaware                wyoming   \n",
       "2               delaware          new hampshire           north dakota   \n",
       "3          new hampshire           rhode island            mississippi   \n",
       "4                  maine                  maine                   iowa   \n",
       "\n",
       "  sat_participation_2018  \n",
       "0            mississippi  \n",
       "1                   iowa  \n",
       "2              wisconsin  \n",
       "3                wyoming  \n",
       "4           north dakota  "
      ]
     },
     "execution_count": 66,
     "metadata": {},
     "output_type": "execute_result"
    }
   ],
   "source": [
    "states_low_participation_df"
   ]
  },
  {
   "cell_type": "markdown",
   "metadata": {},
   "source": [
    "## Which states have the highest and lowest mean total/composite scores for the:\n",
    "    - 2017 SAT?\n",
    "    - 2018 SAT?\n",
    "    - 2017 ACT?\n",
    "    - 2018 ACT?"
   ]
  },
  {
   "cell_type": "code",
   "execution_count": 67,
   "metadata": {},
   "outputs": [],
   "source": [
    "columns_totals = [\"act_composite_2017\", \"act_composite_2018\", \"sat_total_2017\", \"sat_total_2018\" ]\n",
    "states_high_scores_dict= {}\n",
    "def get_states_highest_scores(df, columns_totals):\n",
    "    for column in columns_totals:\n",
    "        states_high_scores_dict.update({column: \n",
    "                                             list(df.sort_values(column, ascending = False)[\"state\"].head(5))})\n",
    "        \n",
    "get_states_highest_scores(final, columns_totals)\n",
    "\n",
    "states_highest_scores_df = pd.DataFrame.from_dict(states_high_scores_dict)"
   ]
  },
  {
   "cell_type": "markdown",
   "metadata": {},
   "source": [
    "## Top 5 States with the highest total/composite scores"
   ]
  },
  {
   "cell_type": "code",
   "execution_count": 68,
   "metadata": {},
   "outputs": [
    {
     "data": {
      "text/html": [
       "<div>\n",
       "<style scoped>\n",
       "    .dataframe tbody tr th:only-of-type {\n",
       "        vertical-align: middle;\n",
       "    }\n",
       "\n",
       "    .dataframe tbody tr th {\n",
       "        vertical-align: top;\n",
       "    }\n",
       "\n",
       "    .dataframe thead th {\n",
       "        text-align: right;\n",
       "    }\n",
       "</style>\n",
       "<table border=\"1\" class=\"dataframe\">\n",
       "  <thead>\n",
       "    <tr style=\"text-align: right;\">\n",
       "      <th></th>\n",
       "      <th>act_composite_2017</th>\n",
       "      <th>act_composite_2018</th>\n",
       "      <th>sat_total_2017</th>\n",
       "      <th>sat_total_2018</th>\n",
       "    </tr>\n",
       "  </thead>\n",
       "  <tbody>\n",
       "    <tr>\n",
       "      <th>0</th>\n",
       "      <td>new hampshire</td>\n",
       "      <td>connecticut</td>\n",
       "      <td>minnesota</td>\n",
       "      <td>minnesota</td>\n",
       "    </tr>\n",
       "    <tr>\n",
       "      <th>1</th>\n",
       "      <td>massachusetts</td>\n",
       "      <td>massachusetts</td>\n",
       "      <td>wisconsin</td>\n",
       "      <td>wisconsin</td>\n",
       "    </tr>\n",
       "    <tr>\n",
       "      <th>2</th>\n",
       "      <td>connecticut</td>\n",
       "      <td>new hampshire</td>\n",
       "      <td>iowa</td>\n",
       "      <td>north dakota</td>\n",
       "    </tr>\n",
       "    <tr>\n",
       "      <th>3</th>\n",
       "      <td>maine</td>\n",
       "      <td>new york</td>\n",
       "      <td>missouri</td>\n",
       "      <td>iowa</td>\n",
       "    </tr>\n",
       "    <tr>\n",
       "      <th>4</th>\n",
       "      <td>district of columbia</td>\n",
       "      <td>michigan</td>\n",
       "      <td>kansas</td>\n",
       "      <td>kansas</td>\n",
       "    </tr>\n",
       "  </tbody>\n",
       "</table>\n",
       "</div>"
      ],
      "text/plain": [
       "     act_composite_2017 act_composite_2018 sat_total_2017 sat_total_2018\n",
       "0         new hampshire        connecticut      minnesota      minnesota\n",
       "1         massachusetts      massachusetts      wisconsin      wisconsin\n",
       "2           connecticut      new hampshire           iowa   north dakota\n",
       "3                 maine           new york       missouri           iowa\n",
       "4  district of columbia           michigan         kansas         kansas"
      ]
     },
     "execution_count": 68,
     "metadata": {},
     "output_type": "execute_result"
    }
   ],
   "source": [
    "states_highest_scores_df"
   ]
  },
  {
   "cell_type": "code",
   "execution_count": 69,
   "metadata": {},
   "outputs": [],
   "source": [
    "states_low_scores_dict= {}\n",
    "def get_states_lowest_scores(df, columns_totals):\n",
    "    for column in columns_totals:\n",
    "        states_low_scores_dict.update({column: \n",
    "                                             list(df.sort_values(column, ascending = False)[\"state\"].tail(5))})\n",
    "        \n",
    "get_states_lowest_scores(final, columns_totals)\n",
    "\n",
    "states_low_scores_df = pd.DataFrame.from_dict(states_low_scores_dict)"
   ]
  },
  {
   "cell_type": "markdown",
   "metadata": {},
   "source": [
    "## 5 states with the lowest in total/composite scores"
   ]
  },
  {
   "cell_type": "code",
   "execution_count": 61,
   "metadata": {},
   "outputs": [
    {
     "data": {
      "text/html": [
       "<div>\n",
       "<style scoped>\n",
       "    .dataframe tbody tr th:only-of-type {\n",
       "        vertical-align: middle;\n",
       "    }\n",
       "\n",
       "    .dataframe tbody tr th {\n",
       "        vertical-align: top;\n",
       "    }\n",
       "\n",
       "    .dataframe thead th {\n",
       "        text-align: right;\n",
       "    }\n",
       "</style>\n",
       "<table border=\"1\" class=\"dataframe\">\n",
       "  <thead>\n",
       "    <tr style=\"text-align: right;\">\n",
       "      <th></th>\n",
       "      <th>act_composite_2017</th>\n",
       "      <th>act_composite_2018</th>\n",
       "      <th>sat_total_2017</th>\n",
       "      <th>sat_total_2018</th>\n",
       "    </tr>\n",
       "  </thead>\n",
       "  <tbody>\n",
       "    <tr>\n",
       "      <th>0</th>\n",
       "      <td>north carolina</td>\n",
       "      <td>alabama</td>\n",
       "      <td>maine</td>\n",
       "      <td>hawaii</td>\n",
       "    </tr>\n",
       "    <tr>\n",
       "      <th>1</th>\n",
       "      <td>hawaii</td>\n",
       "      <td>hawaii</td>\n",
       "      <td>idaho</td>\n",
       "      <td>idaho</td>\n",
       "    </tr>\n",
       "    <tr>\n",
       "      <th>2</th>\n",
       "      <td>south carolina</td>\n",
       "      <td>mississippi</td>\n",
       "      <td>michigan</td>\n",
       "      <td>west virginia</td>\n",
       "    </tr>\n",
       "    <tr>\n",
       "      <th>3</th>\n",
       "      <td>mississippi</td>\n",
       "      <td>south carolina</td>\n",
       "      <td>delaware</td>\n",
       "      <td>delaware</td>\n",
       "    </tr>\n",
       "    <tr>\n",
       "      <th>4</th>\n",
       "      <td>nevada</td>\n",
       "      <td>nevada</td>\n",
       "      <td>district of columbia</td>\n",
       "      <td>district of columbia</td>\n",
       "    </tr>\n",
       "  </tbody>\n",
       "</table>\n",
       "</div>"
      ],
      "text/plain": [
       "  act_composite_2017 act_composite_2018        sat_total_2017  \\\n",
       "0     north carolina            alabama                 maine   \n",
       "1             hawaii             hawaii                 idaho   \n",
       "2     south carolina        mississippi              michigan   \n",
       "3        mississippi     south carolina              delaware   \n",
       "4             nevada             nevada  district of columbia   \n",
       "\n",
       "         sat_total_2018  \n",
       "0                hawaii  \n",
       "1                 idaho  \n",
       "2         west virginia  \n",
       "3              delaware  \n",
       "4  district of columbia  "
      ]
     },
     "execution_count": 61,
     "metadata": {},
     "output_type": "execute_result"
    }
   ],
   "source": [
    "states_low_scores_df"
   ]
  },
  {
   "cell_type": "markdown",
   "metadata": {},
   "source": [
    "## Do any states with 100% participation on a given test have a rate change year-to-year?\n",
    "\n",
    "- Colorado had a 100% participation in ACT 2017, but it dropped down to 30% in 2018. They had a 100% participation in SAT 2018, which looks like they made a decision to switch over to the SAT's after 2017.\n",
    "- DC dropped a little bit in their SAT participation, from 100% in 2017 to 92% in 2018."
   ]
  },
  {
   "cell_type": "code",
   "execution_count": 62,
   "metadata": {},
   "outputs": [],
   "source": [
    "# selecting for participation columns\n",
    "participation = final[[\"state\", \"act_participation_2017\",'act_participation_2018','sat_participation_2017',\"sat_participation_2018\"]]"
   ]
  },
  {
   "cell_type": "code",
   "execution_count": 63,
   "metadata": {},
   "outputs": [
    {
     "data": {
      "text/html": [
       "<div>\n",
       "<style scoped>\n",
       "    .dataframe tbody tr th:only-of-type {\n",
       "        vertical-align: middle;\n",
       "    }\n",
       "\n",
       "    .dataframe tbody tr th {\n",
       "        vertical-align: top;\n",
       "    }\n",
       "\n",
       "    .dataframe thead th {\n",
       "        text-align: right;\n",
       "    }\n",
       "</style>\n",
       "<table border=\"1\" class=\"dataframe\">\n",
       "  <thead>\n",
       "    <tr style=\"text-align: right;\">\n",
       "      <th></th>\n",
       "      <th>state</th>\n",
       "      <th>act_participation_2017</th>\n",
       "      <th>act_participation_2018</th>\n",
       "      <th>sat_participation_2017</th>\n",
       "      <th>sat_participation_2018</th>\n",
       "    </tr>\n",
       "  </thead>\n",
       "  <tbody>\n",
       "    <tr>\n",
       "      <th>8</th>\n",
       "      <td>district of columbia</td>\n",
       "      <td>0.32</td>\n",
       "      <td>0.32</td>\n",
       "      <td>1.00</td>\n",
       "      <td>0.92</td>\n",
       "    </tr>\n",
       "    <tr>\n",
       "      <th>22</th>\n",
       "      <td>michigan</td>\n",
       "      <td>0.29</td>\n",
       "      <td>0.22</td>\n",
       "      <td>1.00</td>\n",
       "      <td>1.00</td>\n",
       "    </tr>\n",
       "    <tr>\n",
       "      <th>6</th>\n",
       "      <td>connecticut</td>\n",
       "      <td>0.31</td>\n",
       "      <td>0.26</td>\n",
       "      <td>1.00</td>\n",
       "      <td>1.00</td>\n",
       "    </tr>\n",
       "    <tr>\n",
       "      <th>7</th>\n",
       "      <td>delaware</td>\n",
       "      <td>0.18</td>\n",
       "      <td>0.17</td>\n",
       "      <td>1.00</td>\n",
       "      <td>1.00</td>\n",
       "    </tr>\n",
       "    <tr>\n",
       "      <th>29</th>\n",
       "      <td>new hampshire</td>\n",
       "      <td>0.18</td>\n",
       "      <td>0.16</td>\n",
       "      <td>0.96</td>\n",
       "      <td>0.96</td>\n",
       "    </tr>\n",
       "  </tbody>\n",
       "</table>\n",
       "</div>"
      ],
      "text/plain": [
       "                   state  act_participation_2017  act_participation_2018  \\\n",
       "8   district of columbia                    0.32                    0.32   \n",
       "22              michigan                    0.29                    0.22   \n",
       "6            connecticut                    0.31                    0.26   \n",
       "7               delaware                    0.18                    0.17   \n",
       "29         new hampshire                    0.18                    0.16   \n",
       "\n",
       "    sat_participation_2017  sat_participation_2018  \n",
       "8                     1.00                    0.92  \n",
       "22                    1.00                    1.00  \n",
       "6                     1.00                    1.00  \n",
       "7                     1.00                    1.00  \n",
       "29                    0.96                    0.96  "
      ]
     },
     "execution_count": 63,
     "metadata": {},
     "output_type": "execute_result"
    }
   ],
   "source": [
    "# let's look at the states with the highest participation rates\n",
    "participation.sort_values(\"act_participation_2017\", ascending = False).head()\n",
    "participation.sort_values(\"sat_participation_2017\", ascending = False).head()"
   ]
  },
  {
   "cell_type": "markdown",
   "metadata": {},
   "source": [
    "\n",
    "Based on what you've just observed, have you identified any states that you're especially interested in? **Make a note of these and state *why* you think they're interesting**.\n",
    "\n",
    "**You should comment on your findings at each step in a markdown cell below your code block**. Make sure you include at least one example of sorting your dataframe by a column, and one example of using boolean filtering (i.e., masking) to select a subset of the dataframe."
   ]
  },
  {
   "cell_type": "markdown",
   "metadata": {},
   "source": [
    "## Do any states have >50% participation on *both* tests either year?\n",
    "- Florida, Georgia, and Hawaii have over 50% participation on both tests in 2017 and 2018.\n"
   ]
  },
  {
   "cell_type": "code",
   "execution_count": 64,
   "metadata": {
    "scrolled": true
   },
   "outputs": [
    {
     "data": {
      "text/html": [
       "<div>\n",
       "<style scoped>\n",
       "    .dataframe tbody tr th:only-of-type {\n",
       "        vertical-align: middle;\n",
       "    }\n",
       "\n",
       "    .dataframe tbody tr th {\n",
       "        vertical-align: top;\n",
       "    }\n",
       "\n",
       "    .dataframe thead th {\n",
       "        text-align: right;\n",
       "    }\n",
       "</style>\n",
       "<table border=\"1\" class=\"dataframe\">\n",
       "  <thead>\n",
       "    <tr style=\"text-align: right;\">\n",
       "      <th></th>\n",
       "      <th>state</th>\n",
       "      <th>act_participation_2017</th>\n",
       "      <th>act_participation_2018</th>\n",
       "      <th>sat_participation_2017</th>\n",
       "      <th>sat_participation_2018</th>\n",
       "    </tr>\n",
       "  </thead>\n",
       "  <tbody>\n",
       "    <tr>\n",
       "      <th>9</th>\n",
       "      <td>florida</td>\n",
       "      <td>0.73</td>\n",
       "      <td>0.66</td>\n",
       "      <td>0.83</td>\n",
       "      <td>0.56</td>\n",
       "    </tr>\n",
       "    <tr>\n",
       "      <th>10</th>\n",
       "      <td>georgia</td>\n",
       "      <td>0.55</td>\n",
       "      <td>0.53</td>\n",
       "      <td>0.61</td>\n",
       "      <td>0.70</td>\n",
       "    </tr>\n",
       "    <tr>\n",
       "      <th>11</th>\n",
       "      <td>hawaii</td>\n",
       "      <td>0.90</td>\n",
       "      <td>0.89</td>\n",
       "      <td>0.55</td>\n",
       "      <td>0.56</td>\n",
       "    </tr>\n",
       "  </tbody>\n",
       "</table>\n",
       "</div>"
      ],
      "text/plain": [
       "      state  act_participation_2017  act_participation_2018  \\\n",
       "9   florida                    0.73                    0.66   \n",
       "10  georgia                    0.55                    0.53   \n",
       "11   hawaii                    0.90                    0.89   \n",
       "\n",
       "    sat_participation_2017  sat_participation_2018  \n",
       "9                     0.83                    0.56  \n",
       "10                    0.61                    0.70  \n",
       "11                    0.55                    0.56  "
      ]
     },
     "execution_count": 64,
     "metadata": {},
     "output_type": "execute_result"
    }
   ],
   "source": [
    "# filter for states with over 50% participation in both years\n",
    "participation[(participation.iloc[:, 1:] > .5).all(axis=1)]"
   ]
  },
  {
   "cell_type": "code",
   "execution_count": 70,
   "metadata": {},
   "outputs": [],
   "source": [
    "# create a column for the change in participation rates for ACT and SAT\n",
    "final[\"act_participation_change\"]= (final[\"act_participation_2018\"] - final[\"act_participation_2017\"]) /final[\"act_participation_2017\"]\n",
    "final[\"sat_participation_change\"]= (final[\"sat_participation_2018\"] - final[\"sat_participation_2017\"]) /final[\"sat_participation_2017\"]"
   ]
  },
  {
   "cell_type": "markdown",
   "metadata": {},
   "source": [
    "## Visualize the data\n",
    "\n",
    "There's not a magic bullet recommendation for the right number of plots to understand a given dataset, but visualizing your data is *always* a good idea. Not only does it allow you to quickly convey your findings (even if you have a non-technical audience), it will often reveal trends in your data that escaped you when you were looking only at numbers.\n",
    "\n",
    "Some recommendations on plotting:\n",
    "- Plots have titles\n",
    "- Plots have axis labels\n",
    "- Plots have appropriate tick labels\n",
    "- All text is legible in a plot\n",
    "- Plots demonstrate meaningful and valid relationships\n",
    "- Plots are interpreted to aid understanding\n",
    "\n",
    "There is such a thing as too many plots, and there are a *lot* of bad plots. You might make some! (But hopefully not with the guided prompts below)."
   ]
  },
  {
   "cell_type": "markdown",
   "metadata": {},
   "source": [
    "#### Use Seaborn's heatmap with pandas `.corr()` to visualize correlations between all numeric features\n",
    "\n",
    "Heatmaps are generally not appropriate for presentations, and should often be excluded from reports as they can be visually overwhelming. **However**, they can be extremely useful in identify relationships of potential interest (as well as identifying potential collinearity before modeling).\n",
    "\n",
    "*example*:\n",
    "```python\n",
    "sns.heatmap(df.corr())\n",
    "```\n",
    "\n",
    "Please take time to format your output, adding a title. Look through some of the additional arguments and options. (Axis labels aren't really necessary, as long as the title is informative)."
   ]
  },
  {
   "cell_type": "code",
   "execution_count": 73,
   "metadata": {},
   "outputs": [],
   "source": [
    "import matplotlib.pyplot as plt\n",
    "import seaborn as sns"
   ]
  },
  {
   "cell_type": "code",
   "execution_count": 74,
   "metadata": {},
   "outputs": [
    {
     "data": {
      "image/png": "[encoded data removed]",
      "text/plain": [
       "<Figure size 1080x864 with 2 Axes>"
      ]
     },
     "metadata": {
      "needs_background": "light"
     },
     "output_type": "display_data"
    }
   ],
   "source": [
    "# A:\n",
    "plt.figure(figsize=(15,12))\n",
    "#sns.heatmap(final.corr(), annot=True, cmap=\"coolwarm\")\n",
    "\n",
    "# Set up mask to be \"True\" in the upper triangle.\n",
    "mask = np.zeros_like(final.corr())\n",
    "mask[np.triu_indices_from(mask)] = True\n",
    "\n",
    "# Plot our correlation heatmap, while masking the upper triangle to be white.\n",
    "with sns.axes_style(\"white\"):\n",
    "    sns.heatmap(final.corr(), mask=mask,  square=True, annot=True, cmap=\"coolwarm\") #change heatmap gradient here\n",
    "\n",
    "plt.title(\"Correlation of numeric variables in ACT and SAT data from 2017 to 2018\", fontsize=22);"
   ]
  },
  {
   "cell_type": "markdown",
   "metadata": {},
   "source": [
    "## Some obvious takeaways from the heatmap show:\n",
    "- Participation in ACT is negatively correlated with participation in SAT\n",
    "- The individual subject scores are strongly (and positively) correlated to the total/composite scores"
   ]
  },
  {
   "cell_type": "markdown",
   "metadata": {},
   "source": [
    "#### Define a custom function to subplot histograms\n",
    "\n",
    "We have data for two tests for two years. We only have composite (and not subtest scores) for the 2018 ACT. We should write a function that will take the names of 2+ columns and subplot histograms. While you can use pandas plotting or Seaborn here, matplotlib gives you greater control over all aspects of your plots.\n",
    "\n",
    "[Helpful Link for Plotting Multiple Figures](https://matplotlib.org/users/pyplot_tutorial.html#working-with-multiple-figures-and-axes)\n",
    "\n",
    "Here's some starter code:"
   ]
  },
  {
   "cell_type": "code",
   "execution_count": 75,
   "metadata": {},
   "outputs": [],
   "source": [
    "def subplot_histograms(dataframe, list_of_columns, list_of_titles, list_of_xlabels):\n",
    "    nrows = int(np.ceil(len(list_of_columns)/2)) # Makes sure you have enough rows\n",
    "    fig, ax = plt.subplots(nrows=nrows, ncols=2, figsize = (10,10),dpi = 90) # You'll want to specify your figsize\n",
    "    ax = ax.ravel() # Ravel turns a matrix into a vector, which is easier to iterate\n",
    "    colors = [\"#5caccf\", \"#5caccf\", \"#76A08A\", \"#76A08A\"]\n",
    "    for i, column in enumerate(list_of_columns): # Gives us an index value to get into all our lists\n",
    "        ax[i].hist(dataframe[column], color = colors[i]) # feel free to add more settings\n",
    "        # Set titles, labels, etc here for each subplot\n",
    "    for i, title in enumerate(list_of_titles):\n",
    "        ax[i].set(title=title)\n",
    "    for i, xlabel in enumerate(list_of_xlabels):\n",
    "        ax[i].set(xlabel=xlabel)\n",
    "    plt.subplots_adjust(hspace=0.3)\n"
   ]
  },
  {
   "cell_type": "markdown",
   "metadata": {},
   "source": [
    "#### Plot and interpret histograms \n",
    "For each of the following:\n",
    "- Participation rates for SAT & ACT\n",
    "- Math scores for SAT & ACT\n",
    "- Reading/verbal scores for SAT & ACT"
   ]
  },
  {
   "cell_type": "code",
   "execution_count": 76,
   "metadata": {},
   "outputs": [
    {
     "data": {
      "image/png": "[encoded data removed]",
      "text/plain": [
       "<Figure size 900x900 with 4 Axes>"
      ]
     },
     "metadata": {
      "needs_background": "light"
     },
     "output_type": "display_data"
    }
   ],
   "source": [
    "# Plotting participation rates\n",
    "participation_rates = [\"act_participation_2017\", \"act_participation_2018\", \"sat_participation_2017\", \"sat_participation_2018\"] \n",
    "participation_titles = [\"ACT 2017\", \"ACT 2018\", \"SAT 2017\", \"SAT 2018\"]\n",
    "participation_labels = [\"Participation Rates\"]*4\n",
    "subplot_histograms(final, participation_rates, participation_titles, participation_labels)"
   ]
  },
  {
   "cell_type": "code",
   "execution_count": 77,
   "metadata": {},
   "outputs": [
    {
     "name": "stdout",
     "output_type": "stream",
     "text": [
      "Missing Math score data for ACT 2018\n"
     ]
    },
    {
     "data": {
      "image/png": "[encoded data removed]",
      "text/plain": [
       "<Figure size 900x900 with 4 Axes>"
      ]
     },
     "metadata": {
      "needs_background": "light"
     },
     "output_type": "display_data"
    }
   ],
   "source": [
    "# Let's look at Math scores\n",
    "print(\"Missing Math score data for ACT 2018\")\n",
    "math_columns = [\"act_math_2017\", \"sat_math_2017\", \"sat_math_2018\"] \n",
    "math_titles = [\"ACT 2017\",  \"SAT 2017\", \"SAT 2018\"]\n",
    "math_labels= [\"Math Scores\"]*3\n",
    "subplot_histograms(final, math_columns, math_titles, math_labels)\n"
   ]
  },
  {
   "cell_type": "code",
   "execution_count": 78,
   "metadata": {},
   "outputs": [
    {
     "name": "stdout",
     "output_type": "stream",
     "text": [
      "Missing reading score data for ACT 2018\n"
     ]
    },
    {
     "data": {
      "image/png": "[encoded data removed]",
      "text/plain": [
       "<Figure size 900x900 with 4 Axes>"
      ]
     },
     "metadata": {
      "needs_background": "light"
     },
     "output_type": "display_data"
    }
   ],
   "source": [
    "# Compare reading/verbal scores\n",
    "print(\"Missing reading score data for ACT 2018\")\n",
    "list_of_columns_verbal=[\"act_reading_2017\", \"sat_verbal_2017\",\"sat_verbal_2018\"]\n",
    "list_of_titles_verbal = [\"ACT 2017\",  \"SAT 2017\", \"SAT 2018\"]\n",
    "list_of_labels_verbal = [\"Reading\", \"Verbal\", \"Verbal\"]\n",
    "subplot_histograms(final, list_of_columns_verbal, list_of_titles_verbal, list_of_labels_verbal)"
   ]
  },
  {
   "cell_type": "markdown",
   "metadata": {},
   "source": [
    "#### Plot and interpret scatter plots\n",
    "\n",
    "For each of the following:\n",
    "- SAT vs. ACT math scores for 2017\n",
    "- SAT vs. ACT verbal/reading scores for 2017\n",
    "- SAT vs. ACT total/composite scores for 2017\n",
    "- Total scores for SAT 2017 vs. 2018\n",
    "- Composite scores for ACT 2017 vs. 2018\n",
    "\n",
    "Plot the two variables against each other using matplotlib or Seaborn\n",
    "\n",
    "Your plots should show:\n",
    "- Two clearly labeled axes\n",
    "- A proper title\n",
    "- Using colors and symbols that are clear and unmistakable\n",
    "\n",
    "**Feel free to write a custom function, and subplot if you'd like.** Functions save both time and space.\n"
   ]
  },
  {
   "cell_type": "code",
   "execution_count": 79,
   "metadata": {},
   "outputs": [],
   "source": [
    "# custom funnction to plot scatterplots\n",
    "def plot_scatterplot(dataframe, list_of_columns, title, xlabel, ylabel):\n",
    "    plt.figure(figsize=(8, 5), dpi=80)\n",
    "    plt.scatter(dataframe[list_of_columns[0]],\n",
    "            dataframe[list_of_columns[1]]) #c is color\n",
    "    plt.title(title, fontsize=18)\n",
    "    plt.xlabel(xlabel, fontsize = 12)\n",
    "    plt.ylabel(ylabel, fontsize=12);"
   ]
  },
  {
   "cell_type": "code",
   "execution_count": 80,
   "metadata": {},
   "outputs": [
    {
     "data": {
      "image/png": "[encoded data removed]",
      "text/plain": [
       "<Figure size 640x400 with 1 Axes>"
      ]
     },
     "metadata": {
      "needs_background": "light"
     },
     "output_type": "display_data"
    }
   ],
   "source": [
    "# see correlation between SAT and ACT math scores in 2017\n",
    "plot_scatterplot(final, [\"sat_math_2017\", \"act_math_2017\"], \"Math Scores in 2017\", \"SAT\", \"ACT\")"
   ]
  },
  {
   "cell_type": "code",
   "execution_count": 75,
   "metadata": {},
   "outputs": [
    {
     "data": {
      "image/png": "[encoded data removed]",
      "text/plain": [
       "<Figure size 640x400 with 1 Axes>"
      ]
     },
     "metadata": {
      "needs_background": "light"
     },
     "output_type": "display_data"
    }
   ],
   "source": [
    "# see correlation between SAT and ACT verbal scores in 2017\n",
    "plot_scatterplot(final, [\"sat_verbal_2017\", \"act_reading_2017\"], \"Verbal and Reading Scores in 2017\", \"SAT\", \"ACT\")"
   ]
  },
  {
   "cell_type": "code",
   "execution_count": 76,
   "metadata": {},
   "outputs": [
    {
     "data": {
      "image/png": "[encoded data removed]",
      "text/plain": [
       "<Figure size 640x400 with 1 Axes>"
      ]
     },
     "metadata": {
      "needs_background": "light"
     },
     "output_type": "display_data"
    }
   ],
   "source": [
    "# see correlation between  ACT composite scores in 2017 and 2018\n",
    "plot_scatterplot(final, [\"sat_total_2017\", \"act_composite_2017\"], \"Total and Composite Scores in 2017\", \"SAT\", \"ACT\")"
   ]
  },
  {
   "cell_type": "code",
   "execution_count": 81,
   "metadata": {
    "scrolled": true
   },
   "outputs": [
    {
     "data": {
      "image/png": "[encoded data removed]",
      "text/plain": [
       "<Figure size 640x400 with 1 Axes>"
      ]
     },
     "metadata": {
      "needs_background": "light"
     },
     "output_type": "display_data"
    }
   ],
   "source": [
    "# see correlation between SAT total scores in 2017 and 2018\n",
    "plot_scatterplot(final, [\"sat_total_2017\", \"sat_total_2018\"], \"Total SAT Scores in 2017 and 2018\", \"2017\", \"2018\")"
   ]
  },
  {
   "cell_type": "code",
   "execution_count": 78,
   "metadata": {
    "scrolled": true
   },
   "outputs": [
    {
     "data": {
      "image/png": "[encoded data removed]",
      "text/plain": [
       "<Figure size 640x400 with 1 Axes>"
      ]
     },
     "metadata": {
      "needs_background": "light"
     },
     "output_type": "display_data"
    }
   ],
   "source": [
    "# compare ACT composite scores in 2017 and 2018\n",
    "plot_scatterplot(final, [\"act_composite_2017\", \"act_composite_2018\"], \"Composite ACT Scores in 2017 and 2018\", \"2017\", \"2018\")"
   ]
  },
  {
   "cell_type": "code",
   "execution_count": 83,
   "metadata": {},
   "outputs": [
    {
     "data": {
      "image/png": "[encoded data removed]",
      "text/plain": [
       "<Figure size 640x400 with 1 Axes>"
      ]
     },
     "metadata": {
      "needs_background": "light"
     },
     "output_type": "display_data"
    }
   ],
   "source": [
    "# I was curious to see if there was any correlation between total SAT scores in 2017 and change in participation rates\n",
    "plot_scatterplot(final, [\"sat_total_2017\", \"sat_participation_change\"], \"Correlation Between Total Scores and Participation Rates\", \"SAT Total Score in 2017\", \"Percent Change in Participation \\n Between 2017 and 2018\")"
   ]
  },
  {
   "cell_type": "code",
   "execution_count": 84,
   "metadata": {
    "scrolled": true
   },
   "outputs": [
    {
     "data": {
      "image/png": "[encoded data removed]",
      "text/plain": [
       "<Figure size 640x400 with 1 Axes>"
      ]
     },
     "metadata": {
      "needs_background": "light"
     },
     "output_type": "display_data"
    }
   ],
   "source": [
    "# I was curious to see if there was any correlation between total ACT scores in 2017 and change in participation rates\n",
    "plot_scatterplot(final, [\"act_composite_2017\", \"act_participation_change\"], \"Correlation Between ACT Composite Scores and Participation Rates\", \"ACT Composite Score in 2017\", \"Percent Change in Participation Rates \\n Between 2017 and 2018\")"
   ]
  },
  {
   "cell_type": "markdown",
   "metadata": {},
   "source": [
    "#### Plot and interpret boxplots\n",
    "\n",
    "For each numeric variable in the dataframe create a boxplot using Seaborn. Boxplots demonstrate central tendency and spread in variables. In a certain sense, these are somewhat redundant with histograms, but you may be better able to identify clear outliers or differences in IQR, etc.\n",
    "\n",
    "Multiple values can be plotted to a single boxplot as long as they are of the same relative scale (meaning they have similar min/max values).\n",
    "\n",
    "Each boxplot should:\n",
    "- Only include variables of a similar scale\n",
    "- Have clear labels for each variable\n",
    "- Have appropriate titles and labels"
   ]
  },
  {
   "cell_type": "code",
   "execution_count": 85,
   "metadata": {},
   "outputs": [],
   "source": [
    "# custom function for boxplots\n",
    "def plot_boxplot(dataframe, list_of_columns, title):\n",
    "    plt.figure(figsize=(6, 4), dpi=80)\n",
    "    sns.boxplot(data = dataframe[list_of_columns], orient=\"h\", palette = \"Set2\")\n",
    "    plt.title(title, fontsize=18);"
   ]
  },
  {
   "cell_type": "code",
   "execution_count": 86,
   "metadata": {},
   "outputs": [
    {
     "data": {
      "image/png": "[encoded data removed]",
      "text/plain": [
       "<Figure size 480x320 with 1 Axes>"
      ]
     },
     "metadata": {
      "needs_background": "light"
     },
     "output_type": "display_data"
    }
   ],
   "source": [
    "# compare SAT total scores in 2017 and 2018\n",
    "plot_boxplot(final, [\"sat_total_2017\", \"sat_total_2018\"], \"SAT Total Scores in 2017 and 2018\")"
   ]
  },
  {
   "cell_type": "code",
   "execution_count": 87,
   "metadata": {},
   "outputs": [
    {
     "data": {
      "image/png": "[encoded data removed]",
      "text/plain": [
       "<Figure size 480x320 with 1 Axes>"
      ]
     },
     "metadata": {
      "needs_background": "light"
     },
     "output_type": "display_data"
    }
   ],
   "source": [
    "# compare ACT total scores in 2017 and 2018\n",
    "plot_boxplot(final, [\"act_composite_2017\", \"act_composite_2018\"], \"ACT Composite Scores in 2017 and 2018\")"
   ]
  },
  {
   "cell_type": "code",
   "execution_count": 88,
   "metadata": {},
   "outputs": [
    {
     "data": {
      "image/png": "[encoded data removed]",
      "text/plain": [
       "<Figure size 480x320 with 1 Axes>"
      ]
     },
     "metadata": {
      "needs_background": "light"
     },
     "output_type": "display_data"
    }
   ],
   "source": [
    "# compare SAT subject scores\n",
    "plot_boxplot(final, [\"sat_math_2017\", \n",
    "                     \"sat_math_2018\", \"sat_verbal_2017\", \"sat_verbal_2018\"], \"SAT Subject Scores in 2017 and 2018\")\n"
   ]
  },
  {
   "cell_type": "code",
   "execution_count": 89,
   "metadata": {},
   "outputs": [
    {
     "data": {
      "image/png": "[encoded data removed]",
      "text/plain": [
       "<Figure size 480x320 with 1 Axes>"
      ]
     },
     "metadata": {
      "needs_background": "light"
     },
     "output_type": "display_data"
    }
   ],
   "source": [
    "# compare SAT participation rates\n",
    "plot_boxplot(final, [\"sat_participation_2017\", \n",
    "                     \"sat_participation_2018\", \n",
    "                     \"act_participation_2017\", \n",
    "                     \"act_participation_2018\",], \"Participation Rates in 2017 and 2018\")\n"
   ]
  },
  {
   "cell_type": "markdown",
   "metadata": {},
   "source": [
    "#### Feel free to do additional plots below\n",
    "*(do research and choose your own chart types & variables)*\n",
    "\n",
    "Are there any additional trends or relationships you haven't explored? Was there something interesting you saw that you'd like to dive further into? It's likely that there are a few more plots you might want to generate to support your narrative and recommendations that you are building toward. **As always, make sure you're interpreting your plots as you go**."
   ]
  },
  {
   "cell_type": "markdown",
   "metadata": {},
   "source": [
    "# Curious to look at the percent change in participation rates in both tests between 2017 and 2018"
   ]
  },
  {
   "cell_type": "code",
   "execution_count": 90,
   "metadata": {},
   "outputs": [],
   "source": [
    "# plt.figure(figsize=(10, 4), dpi=80)\n",
    "# sns.boxplot(data = final[[\"sat_participation_change\", \"act_participation_change\"]], orient=\"h\", palette = \"Set2\")\n",
    "# plt.title(\"Participation Rate Changes in 2017 and 2018\", fontsize=18);"
   ]
  },
  {
   "cell_type": "code",
   "execution_count": 82,
   "metadata": {},
   "outputs": [
    {
     "data": {
      "image/png": "[encoded data removed]",
      "text/plain": [
       "<Figure size 432x288 with 1 Axes>"
      ]
     },
     "metadata": {
      "needs_background": "light"
     },
     "output_type": "display_data"
    }
   ],
   "source": [
    "# plot the distribution of change for ACT\n",
    "# final[\"act_participation_change\"].describe()\n",
    "\n",
    "act_mean = np.mean(final[\"act_participation_change\"])\n",
    "act_std = np.std(final[\"act_participation_change\"])\n",
    "plt.hist(final[\"act_participation_change\"])\n",
    "plt.axvline(act_mean, color = '#ff0000')\n",
    "\n",
    "# Z-score of 1\n",
    "plt.axvline(act_mean+ 1* act_std, color = \"orange\")\n",
    "# Z- score of -1\n",
    "plt.axvline(act_mean- 1* act_std, color = \"orange\")\n",
    "# Z-score of 2\n",
    "plt.axvline(act_mean+ 2* act_std, color = \"green\")\n",
    "\n",
    "# Z- score of -2\n",
    "plt.axvline(act_mean- 2*act_std, color = \"green\")\n",
    "plt.xlabel(\"Percent change in participation rates\")\n",
    "plt.title(\"ACT Participation Change Rates from 2017 to 2018\");"
   ]
  },
  {
   "cell_type": "code",
   "execution_count": 83,
   "metadata": {},
   "outputs": [
    {
     "data": {
      "image/png": "[encoded data removed]",
      "text/plain": [
       "<Figure size 432x288 with 1 Axes>"
      ]
     },
     "metadata": {
      "needs_background": "light"
     },
     "output_type": "display_data"
    }
   ],
   "source": [
    "# Let's look at the distribution for SAT\n",
    "# final[\"sat_participation_change\"].describe()\n",
    "\n",
    "sat_mean = np.mean(final[\"sat_participation_change\"])\n",
    "sat_std = np.std(final[\"sat_participation_change\"])\n",
    "plt.hist(final[\"sat_participation_change\"])\n",
    "plt.axvline(act_mean, color = '#ff0000')\n",
    "\n",
    "# Z-score of 1\n",
    "plt.axvline(sat_mean+ 1* sat_std, color = \"orange\")\n",
    "# Z- score of -1\n",
    "plt.axvline(sat_mean- 1* sat_std, color = \"orange\")\n",
    "# Z-score of 2\n",
    "plt.axvline(sat_mean+ 2* sat_std, color = \"green\")\n",
    "\n",
    "# Z- score of -2\n",
    "plt.axvline(sat_mean- 2*sat_std, color = \"green\")\n",
    "plt.xlabel(\"Percent change in participation rates\")\n",
    "plt.title(\"SAT Participation Change Rates from 2017 to 2018\");"
   ]
  },
  {
   "cell_type": "markdown",
   "metadata": {},
   "source": [
    "# Visualize the change in participation rates for ACT"
   ]
  },
  {
   "cell_type": "markdown",
   "metadata": {},
   "source": [
    "First I had to change the data format so I can plot a line graph"
   ]
  },
  {
   "cell_type": "code",
   "execution_count": 94,
   "metadata": {
    "scrolled": true
   },
   "outputs": [],
   "source": [
    "# let's select for the states that had a negative participation change \n",
    "# for ACT, I set my filter at 0.22 as one std away from the mean\n",
    "# for SAT, since the data had a couple outliers, I looked for states that had a negative participation change\n",
    "\n",
    "# look at ACT changes that are increasing\n",
    "drop_act = final[(final[\"act_participation_change\"] > 0)]"
   ]
  },
  {
   "cell_type": "code",
   "execution_count": 95,
   "metadata": {},
   "outputs": [],
   "source": [
    "# creating a new df for the participation rates for ACT 2017\n",
    "act_2017_participation =drop_act.loc[:, [\"state\", \"act_participation_2017\", \"act_participation_change\"]]\n",
    "\n",
    "# adding a year variable so I can plot this on X axis\n",
    "act_2017_participation[\"year\"] = 2017\n",
    "\n",
    "# renaming the act_participation_2017 column so I can add this df back to the 2017 df\n",
    "act_2017_participation.rename(columns = {\"state\": \"state\",\n",
    "                     \"act_participation_2017\": \"participation\",\n",
    "                          \"year\": \"year\"},\n",
    "          inplace = True)"
   ]
  },
  {
   "cell_type": "code",
   "execution_count": 96,
   "metadata": {},
   "outputs": [],
   "source": [
    "# creating a new df for the participation rates for ACT 2018\n",
    "act_2018_participation = drop_act.loc[:, [\"state\", \"act_participation_2018\", \"act_participation_change\"]]\n",
    "\n",
    "# adding a year variable so I can plot this on X axis\n",
    "act_2018_participation[\"year\"] = 2018\n",
    "\n",
    "# renaming the act_participation_2018 column so I can add this df back to the 2017 df\n",
    "act_2018_participation.rename(columns = {\"state\": \"state\",\n",
    "                     \"act_participation_2018\": \"participation\",\n",
    "                          \"year\": \"year\"},\n",
    "          inplace = True)"
   ]
  },
  {
   "cell_type": "code",
   "execution_count": 97,
   "metadata": {
    "scrolled": false
   },
   "outputs": [],
   "source": [
    "# rbind act_2017_participation and act_2018_participation\n",
    "act_participation = pd.concat([act_2017_participation, act_2018_participation])"
   ]
  },
  {
   "cell_type": "code",
   "execution_count": 98,
   "metadata": {},
   "outputs": [
    {
     "data": {
      "image/png": "[encoded data removed]",
      "text/plain": [
       "<Figure size 1080x504 with 1 Axes>"
      ]
     },
     "metadata": {
      "needs_background": "light"
     },
     "output_type": "display_data"
    }
   ],
   "source": [
    "# Got this plot code from lecture 2.02-lesson-principles_of_data_visualization \n",
    "\n",
    "#Establish the size of the figure.\n",
    "plt.figure(figsize=(15, 7))\n",
    "# Create line plot of all stock volumes over 2012.\n",
    "for i in set(act_participation[\"state\"]):\n",
    "    plt.plot(act_participation[(act_participation['state'] == i) & ((act_participation['year'] == 2017) | (act_participation['year'] == 2018))]['year'],\n",
    "             #grabbing 2 dates\n",
    "         act_participation[(act_participation['state'] == i) & ((act_participation['year'] == 2017) | (act_participation['year'] == 2018))]['participation'],\n",
    "         label = i,\n",
    "         marker = 'o')\n",
    "plt.legend(loc='center left', bbox_to_anchor=(1, .8),\n",
    "          fancybox=True, shadow=True)\n",
    "plt.xticks((2017, 2018))\n",
    "plt.title(\"Change in ACT Participation Rates between 2017 and 2018\", fontsize=18)\n",
    "plt.xlabel(\"Years\", fontsize=14)\n",
    "plt.ylabel(\"Participation Rates\", fontsize = 14);\n",
    "\n",
    "#plt.savefig(fname='../images/ACT_participation_rates.png', dpi=300)"
   ]
  },
  {
   "cell_type": "markdown",
   "metadata": {},
   "source": [
    "# Repeat this visualization for change in participation for SAT"
   ]
  },
  {
   "cell_type": "code",
   "execution_count": 99,
   "metadata": {},
   "outputs": [],
   "source": [
    "# let's select for the states that had a negative participation change \n",
    "# for ACT, I set my filter at 0.22 as one std away from the mean\n",
    "# for SAT, since the data had a couple outliers, I looked for states that had a negative participation change\n",
    "drop_act = final[(final[\"sat_participation_change\"] < 0)]\n",
    "\n",
    "\n",
    "# creating a new df for the participation rates for SAT 2017\n",
    "sat_2017_participation =drop_act.loc[:, [\"state\", \"sat_participation_2017\", \"sat_participation_change\"]]\n",
    "\n",
    "# adding a year variable so I can plot this on X axis\n",
    "sat_2017_participation[\"year\"] = 2017\n",
    "\n",
    "# renaming the act_participation_2017 column so I can add this df back to the 2017 df\n",
    "sat_2017_participation.rename(columns = {\"state\": \"state\",\n",
    "                     \"sat_participation_2017\": \"participation\",\n",
    "                          \"year\": \"year\"},\n",
    "          inplace = True)\n",
    "\n",
    "\n",
    "\n",
    "# creating a new df for the participation rates for SAT 2018\n",
    "sat_2018_participation = drop_act.loc[:, [\"state\", \"sat_participation_2018\", \"sat_participation_change\"]]\n",
    "\n",
    "# adding a year variable so I can plot this on X axis\n",
    "sat_2018_participation[\"year\"] = 2018\n",
    "\n",
    "# renaming the act_participation_2018 column so I can add this df back to the 2017 df\n",
    "sat_2018_participation.rename(columns = {\"state\": \"state\",\n",
    "                     \"sat_participation_2018\": \"participation\",\n",
    "                          \"year\": \"year\"},\n",
    "          inplace = True)\n",
    "\n",
    "\n",
    "# rbind act_2017_participation and act_2018_participation\n",
    "sat_participation = pd.concat([sat_2017_participation, sat_2018_participation])"
   ]
  },
  {
   "cell_type": "code",
   "execution_count": 101,
   "metadata": {
    "scrolled": true
   },
   "outputs": [
    {
     "data": {
      "image/png": "[encoded data removed]",
      "text/plain": [
       "<Figure size 1500x700 with 1 Axes>"
      ]
     },
     "metadata": {
      "needs_background": "light"
     },
     "output_type": "display_data"
    }
   ],
   "source": [
    "# Got this plot code from lecture 2.02-lesson-principles_of_data_visualization \n",
    "\n",
    "#Establish the size of the figure.\n",
    "plt.figure(figsize=(15, 7), dpi=100)\n",
    "# Create line plot of all stock volumes over 2012.\n",
    "for i in set(sat_participation[\"state\"]):\n",
    "    plt.plot(sat_participation[(sat_participation['state'] == i) & ((sat_participation['year'] == 2017) | (sat_participation['year'] == 2018))]['year'],\n",
    "             #grabbing 2 dates\n",
    "         sat_participation[(sat_participation['state'] == i) & ((sat_participation['year'] == 2017) | (sat_participation['year'] == 2018))]['participation'],\n",
    "         label = i,\n",
    "         marker = 'o')\n",
    "plt.legend(loc='center left', bbox_to_anchor=(1, .8),\n",
    "          fancybox=True, shadow=True)\n",
    "plt.xticks((2017, 2018))\n",
    "plt.title(\"Change in SAT Participation Rates between 2017 and 2018\", fontsize=12)\n",
    "plt.xlabel(\"Years\", fontsize=10)\n",
    "plt.ylabel(\"Participation Rates\", fontsize = 10);\n",
    "#plt.savefig(fname='../images/SAT_participation_rates.png', dpi=300)"
   ]
  },
  {
   "cell_type": "markdown",
   "metadata": {},
   "source": [
    "# What states mandated each test in 2018?"
   ]
  },
  {
   "cell_type": "code",
   "execution_count": 84,
   "metadata": {},
   "outputs": [],
   "source": [
    "act_mandated = final[final[\"act_participation_2018\"] == 1]"
   ]
  },
  {
   "cell_type": "code",
   "execution_count": 85,
   "metadata": {},
   "outputs": [],
   "source": [
    "sat_mandated = final[final[\"sat_participation_2018\"] == 1][\"state\"]"
   ]
  },
  {
   "cell_type": "code",
   "execution_count": 86,
   "metadata": {},
   "outputs": [],
   "source": [
    "mandated = pd.DataFrame(data = [[\"ACT\", len(act_mandated)], [\"SAT\", len(sat_mandated)]], columns = [\"test\", \"total_states\"])"
   ]
  },
  {
   "cell_type": "code",
   "execution_count": 87,
   "metadata": {},
   "outputs": [
    {
     "data": {
      "text/html": [
       "<div>\n",
       "<style scoped>\n",
       "    .dataframe tbody tr th:only-of-type {\n",
       "        vertical-align: middle;\n",
       "    }\n",
       "\n",
       "    .dataframe tbody tr th {\n",
       "        vertical-align: top;\n",
       "    }\n",
       "\n",
       "    .dataframe thead th {\n",
       "        text-align: right;\n",
       "    }\n",
       "</style>\n",
       "<table border=\"1\" class=\"dataframe\">\n",
       "  <thead>\n",
       "    <tr style=\"text-align: right;\">\n",
       "      <th></th>\n",
       "      <th>test</th>\n",
       "      <th>total_states</th>\n",
       "    </tr>\n",
       "  </thead>\n",
       "  <tbody>\n",
       "    <tr>\n",
       "      <th>0</th>\n",
       "      <td>ACT</td>\n",
       "      <td>17</td>\n",
       "    </tr>\n",
       "    <tr>\n",
       "      <th>1</th>\n",
       "      <td>SAT</td>\n",
       "      <td>5</td>\n",
       "    </tr>\n",
       "  </tbody>\n",
       "</table>\n",
       "</div>"
      ],
      "text/plain": [
       "  test  total_states\n",
       "0  ACT            17\n",
       "1  SAT             5"
      ]
     },
     "execution_count": 87,
     "metadata": {},
     "output_type": "execute_result"
    }
   ],
   "source": [
    "mandated"
   ]
  },
  {
   "cell_type": "code",
   "execution_count": 88,
   "metadata": {
    "scrolled": true
   },
   "outputs": [
    {
     "data": {
      "image/png": "[encoded data removed]",
      "text/plain": [
       "<Figure size 576x360 with 1 Axes>"
      ]
     },
     "metadata": {
      "needs_background": "light"
     },
     "output_type": "display_data"
    }
   ],
   "source": [
    "# plot the total number of states sponsoring each test in 2018. \n",
    "# this code was written in collaboration with Maria Flores\n",
    "\n",
    "pd.pivot_table(mandated, index='test', \n",
    "               values='total_states').plot(kind='bar', color=[\"#5caccf\", \"#FDDDA4\"], \n",
    "                                        figsize=(8,5),\n",
    "                                        rot=0)\n",
    "\n",
    "plt.title(\"Number of State Mandated Tests in 2018\")\n",
    "plt.xlabel(\"\");\n",
    "\n",
    "#plt.savefig(fname='../images/total_states_sponsored.png', dpi=300)"
   ]
  },
  {
   "cell_type": "markdown",
   "metadata": {},
   "source": [
    "#### (Optional): Using Tableau, create a choropleth map for each variable using a map of the US. \n",
    "\n",
    "I brought in state budget data and created a chloropleth in R. You can see the map [here](https://veeps.shinyapps.io/project_1)."
   ]
  },
  {
   "cell_type": "markdown",
   "metadata": {},
   "source": [
    "## Outside Research"
   ]
  },
  {
   "cell_type": "markdown",
   "metadata": {},
   "source": [
    "Based upon your observations, choose **three** states that demonstrate interesting trends in their SAT and/or ACT participation rates. Spend some time doing outside research on state policies that might influence these rates, and summarize your findings below. **Feel free to go back and create new plots that highlight these states of interest**. If you bring in any outside tables or charts, make sure you are explicit about having borrowed them. If you quote any text, make sure that it renders as being quoted. (Make sure that you cite your sources -- check with you local instructor for citation preferences)."
   ]
  },
  {
   "cell_type": "markdown",
   "metadata": {},
   "source": [
    "https://www.usnews.com/education/best-colleges/articles/act-vs-sat-how-to-decide-which-test-to-take\n",
    "https://www.chalkbeat.org/posts/co/2015/12/23/goodbye-act-hello-sat-a-significant-change-for-colorado-high-schoolers/"
   ]
  },
  {
   "cell_type": "markdown",
   "metadata": {},
   "source": [
    "## Conclusions and Recommendations"
   ]
  },
  {
   "cell_type": "markdown",
   "metadata": {},
   "source": [
    "Based on your exploration of the data, what are you key takeaways and recommendations? Choose one state with a lower participation rate and provide a suggestion for how the College Board might increase participation amongst graduating seniors in this state. Are there additional data you desire that would better inform your investigations?"
   ]
  },
  {
   "cell_type": "code",
   "execution_count": null,
   "metadata": {},
   "outputs": [],
   "source": []
  },
  {
   "cell_type": "markdown",
   "metadata": {},
   "source": [
    "## Bonus: Descriptive and Inferential Statistics"
   ]
  },
  {
   "cell_type": "markdown",
   "metadata": {},
   "source": [
    "#### Summarizing Distributions\n",
    "\n",
    "Above, we used pandas `describe` to provide quick summary statistics of our numeric columns. We also demonstrated many visual relationships.\n",
    "\n",
    "As data scientists, having a complete understanding of data is imperative prior to modeling.\n",
    "\n",
    "While we will continue to build our analytic tools, we know that measures of *central tendency*, *spread*, and *shape/skewness* provide a quick summary of distributions.\n",
    "\n",
    "For each variable in your data, summarize the underlying distributions (in words & statistics)\n",
    " - Be thorough in your verbal description of these distributions.\n",
    " - Be sure to back up these summaries with statistics."
   ]
  },
  {
   "cell_type": "markdown",
   "metadata": {},
   "source": [
    "Answers:"
   ]
  },
  {
   "cell_type": "markdown",
   "metadata": {},
   "source": [
    "#### We generally assuming that data we sample from a population will be normally distributed. Do we observe this trend?"
   ]
  },
  {
   "cell_type": "markdown",
   "metadata": {},
   "source": [
    "Answer:"
   ]
  },
  {
   "cell_type": "markdown",
   "metadata": {},
   "source": [
    "Does This Assumption Hold for:\n",
    "    - Math\n",
    "    - Reading\n",
    "    - Rates\n",
    "Explain your answers for each distribution and how you think this will affect estimates made from these data."
   ]
  },
  {
   "cell_type": "markdown",
   "metadata": {},
   "source": [
    "Answer:"
   ]
  },
  {
   "cell_type": "markdown",
   "metadata": {},
   "source": [
    "#### Estimate Limits of Data\n",
    "\n",
    "Suppose we only seek to understand the relationship between SAT and ACT participation rates in 2017. \n",
    "\n",
    "##### Does it make sense to conduct statistical inference given these data specifically? \n",
    "\n",
    "Why or why not?\n",
    "\n",
    "*(think about granularity, aggregation, the relationships between populations size & rates...consider the actually populations these data describe in answering this question)*"
   ]
  },
  {
   "cell_type": "markdown",
   "metadata": {},
   "source": [
    "Answer:"
   ]
  },
  {
   "cell_type": "markdown",
   "metadata": {},
   "source": [
    "##### Is it appropriate to compare *these* specific SAT and ACT math scores? \n",
    "\n",
    "Why or why not?"
   ]
  },
  {
   "cell_type": "markdown",
   "metadata": {},
   "source": [
    "Answer:"
   ]
  },
  {
   "cell_type": "markdown",
   "metadata": {},
   "source": [
    "#### Statistical Evaluation of Distributions \n",
    "\n",
    "**If you feel it's appropriate**, using methods we discussed in class, run hypothesis tests to compare variables of interest in our dataset. "
   ]
  },
  {
   "cell_type": "code",
   "execution_count": null,
   "metadata": {},
   "outputs": [],
   "source": [
    "# Code:"
   ]
  }
 ],
 "metadata": {
  "anaconda-cloud": {},
  "kernelspec": {
   "display_name": "Python 3",
   "language": "python",
   "name": "python3"
  },
  "language_info": {
   "codemirror_mode": {
    "name": "ipython",
    "version": 3
   },
   "file_extension": ".py",
   "mimetype": "text/x-python",
   "name": "python",
   "nbconvert_exporter": "python",
   "pygments_lexer": "ipython3",
   "version": "3.7.4"
  }
 },
 "nbformat": 4,
 "nbformat_minor": 2
}
